{
  "nbformat": 4,
  "nbformat_minor": 0,
  "metadata": {
    "colab": {
      "name": "assignment.ipynb",
      "provenance": [],
      "collapsed_sections": []
    },
    "kernelspec": {
      "name": "python3",
      "display_name": "Python 3"
    },
    "language_info": {
      "name": "python"
    }
  },
  "cells": [
    {
      "cell_type": "code",
      "execution_count": 1,
      "metadata": {
        "id": "H9B17yeBfHMN",
        "colab": {
          "base_uri": "https://localhost:8080/"
        },
        "outputId": "bc2f79ac-ff1c-44fb-d35a-97dd95b44f3e"
      },
      "outputs": [
        {
          "output_type": "stream",
          "name": "stderr",
          "text": [
            "/usr/local/lib/python3.7/dist-packages/statsmodels/tools/_testing.py:19: FutureWarning: pandas.util.testing is deprecated. Use the functions in the public API at pandas.testing instead.\n",
            "  import pandas.util.testing as tm\n"
          ]
        }
      ],
      "source": [
        "#imporitng the required packages\n",
        "import numpy as np\n",
        "import pandas as pd\n",
        "import matplotlib.pyplot as plt\n",
        "import seaborn as sns\n",
        "from sklearn.model_selection import train_test_split\n",
        "from sklearn.preprocessing import StandardScaler\n",
        "import statsmodels.api as sm\n",
        "from statsmodels.stats.outliers_influence import variance_inflation_factor\n",
        "import warnings\n",
        "warnings.filterwarnings('ignore')"
      ]
    },
    {
      "cell_type": "markdown",
      "source": [
        "# Reading Dataset and Understanding Data\n"
      ],
      "metadata": {
        "id": "O0D_IKoDgZ8j"
      }
    },
    {
      "cell_type": "code",
      "source": [
        "#Read the csv file using pandas\n",
        "bikeSharing_df = pd.read_csv('day.csv')"
      ],
      "metadata": {
        "id": "zsFtGXUlgdIt"
      },
      "execution_count": 2,
      "outputs": []
    },
    {
      "cell_type": "code",
      "source": [
        "#Inspect first few rows\n",
        "bikeSharing_df.head()"
      ],
      "metadata": {
        "colab": {
          "base_uri": "https://localhost:8080/",
          "height": 206
        },
        "id": "pBPGM6bKgnYd",
        "outputId": "607e1617-7db6-4e87-cf08-c7b965724768"
      },
      "execution_count": 3,
      "outputs": [
        {
          "output_type": "execute_result",
          "data": {
            "text/html": [
              "<div>\n",
              "<style scoped>\n",
              "    .dataframe tbody tr th:only-of-type {\n",
              "        vertical-align: middle;\n",
              "    }\n",
              "\n",
              "    .dataframe tbody tr th {\n",
              "        vertical-align: top;\n",
              "    }\n",
              "\n",
              "    .dataframe thead th {\n",
              "        text-align: right;\n",
              "    }\n",
              "</style>\n",
              "<table border=\"1\" class=\"dataframe\">\n",
              "  <thead>\n",
              "    <tr style=\"text-align: right;\">\n",
              "      <th></th>\n",
              "      <th>instant</th>\n",
              "      <th>dteday</th>\n",
              "      <th>season</th>\n",
              "      <th>yr</th>\n",
              "      <th>mnth</th>\n",
              "      <th>holiday</th>\n",
              "      <th>weekday</th>\n",
              "      <th>workingday</th>\n",
              "      <th>weathersit</th>\n",
              "      <th>temp</th>\n",
              "      <th>atemp</th>\n",
              "      <th>hum</th>\n",
              "      <th>windspeed</th>\n",
              "      <th>casual</th>\n",
              "      <th>registered</th>\n",
              "      <th>cnt</th>\n",
              "    </tr>\n",
              "  </thead>\n",
              "  <tbody>\n",
              "    <tr>\n",
              "      <th>0</th>\n",
              "      <td>1</td>\n",
              "      <td>01-01-2018</td>\n",
              "      <td>1</td>\n",
              "      <td>0</td>\n",
              "      <td>1</td>\n",
              "      <td>0</td>\n",
              "      <td>6</td>\n",
              "      <td>0</td>\n",
              "      <td>2</td>\n",
              "      <td>14.110847</td>\n",
              "      <td>18.18125</td>\n",
              "      <td>80.5833</td>\n",
              "      <td>10.749882</td>\n",
              "      <td>331</td>\n",
              "      <td>654</td>\n",
              "      <td>985</td>\n",
              "    </tr>\n",
              "    <tr>\n",
              "      <th>1</th>\n",
              "      <td>2</td>\n",
              "      <td>02-01-2018</td>\n",
              "      <td>1</td>\n",
              "      <td>0</td>\n",
              "      <td>1</td>\n",
              "      <td>0</td>\n",
              "      <td>0</td>\n",
              "      <td>0</td>\n",
              "      <td>2</td>\n",
              "      <td>14.902598</td>\n",
              "      <td>17.68695</td>\n",
              "      <td>69.6087</td>\n",
              "      <td>16.652113</td>\n",
              "      <td>131</td>\n",
              "      <td>670</td>\n",
              "      <td>801</td>\n",
              "    </tr>\n",
              "    <tr>\n",
              "      <th>2</th>\n",
              "      <td>3</td>\n",
              "      <td>03-01-2018</td>\n",
              "      <td>1</td>\n",
              "      <td>0</td>\n",
              "      <td>1</td>\n",
              "      <td>0</td>\n",
              "      <td>1</td>\n",
              "      <td>1</td>\n",
              "      <td>1</td>\n",
              "      <td>8.050924</td>\n",
              "      <td>9.47025</td>\n",
              "      <td>43.7273</td>\n",
              "      <td>16.636703</td>\n",
              "      <td>120</td>\n",
              "      <td>1229</td>\n",
              "      <td>1349</td>\n",
              "    </tr>\n",
              "    <tr>\n",
              "      <th>3</th>\n",
              "      <td>4</td>\n",
              "      <td>04-01-2018</td>\n",
              "      <td>1</td>\n",
              "      <td>0</td>\n",
              "      <td>1</td>\n",
              "      <td>0</td>\n",
              "      <td>2</td>\n",
              "      <td>1</td>\n",
              "      <td>1</td>\n",
              "      <td>8.200000</td>\n",
              "      <td>10.60610</td>\n",
              "      <td>59.0435</td>\n",
              "      <td>10.739832</td>\n",
              "      <td>108</td>\n",
              "      <td>1454</td>\n",
              "      <td>1562</td>\n",
              "    </tr>\n",
              "    <tr>\n",
              "      <th>4</th>\n",
              "      <td>5</td>\n",
              "      <td>05-01-2018</td>\n",
              "      <td>1</td>\n",
              "      <td>0</td>\n",
              "      <td>1</td>\n",
              "      <td>0</td>\n",
              "      <td>3</td>\n",
              "      <td>1</td>\n",
              "      <td>1</td>\n",
              "      <td>9.305237</td>\n",
              "      <td>11.46350</td>\n",
              "      <td>43.6957</td>\n",
              "      <td>12.522300</td>\n",
              "      <td>82</td>\n",
              "      <td>1518</td>\n",
              "      <td>1600</td>\n",
              "    </tr>\n",
              "  </tbody>\n",
              "</table>\n",
              "</div>"
            ],
            "text/plain": [
              "   instant      dteday  season  yr  ...  windspeed  casual  registered   cnt\n",
              "0        1  01-01-2018       1   0  ...  10.749882     331         654   985\n",
              "1        2  02-01-2018       1   0  ...  16.652113     131         670   801\n",
              "2        3  03-01-2018       1   0  ...  16.636703     120        1229  1349\n",
              "3        4  04-01-2018       1   0  ...  10.739832     108        1454  1562\n",
              "4        5  05-01-2018       1   0  ...  12.522300      82        1518  1600\n",
              "\n",
              "[5 rows x 16 columns]"
            ]
          },
          "metadata": {},
          "execution_count": 3
        }
      ]
    },
    {
      "cell_type": "code",
      "source": [
        "#check the shape\n",
        "bikeSharing_df.shape"
      ],
      "metadata": {
        "colab": {
          "base_uri": "https://localhost:8080/"
        },
        "id": "o_pi_Lu2gtNs",
        "outputId": "aeadf738-4dbb-4c46-e625-023b86defab9"
      },
      "execution_count": 4,
      "outputs": [
        {
          "output_type": "execute_result",
          "data": {
            "text/plain": [
              "(730, 16)"
            ]
          },
          "metadata": {},
          "execution_count": 4
        }
      ]
    },
    {
      "cell_type": "code",
      "source": [
        "#check dataframe for null and datatype \n",
        "bikeSharing_df.info()"
      ],
      "metadata": {
        "colab": {
          "base_uri": "https://localhost:8080/"
        },
        "id": "8C4vdmidix4C",
        "outputId": "08779046-15f2-42b8-b140-3a78c5ef5f9a"
      },
      "execution_count": 5,
      "outputs": [
        {
          "output_type": "stream",
          "name": "stdout",
          "text": [
            "<class 'pandas.core.frame.DataFrame'>\n",
            "RangeIndex: 730 entries, 0 to 729\n",
            "Data columns (total 16 columns):\n",
            " #   Column      Non-Null Count  Dtype  \n",
            "---  ------      --------------  -----  \n",
            " 0   instant     730 non-null    int64  \n",
            " 1   dteday      730 non-null    object \n",
            " 2   season      730 non-null    int64  \n",
            " 3   yr          730 non-null    int64  \n",
            " 4   mnth        730 non-null    int64  \n",
            " 5   holiday     730 non-null    int64  \n",
            " 6   weekday     730 non-null    int64  \n",
            " 7   workingday  730 non-null    int64  \n",
            " 8   weathersit  730 non-null    int64  \n",
            " 9   temp        730 non-null    float64\n",
            " 10  atemp       730 non-null    float64\n",
            " 11  hum         730 non-null    float64\n",
            " 12  windspeed   730 non-null    float64\n",
            " 13  casual      730 non-null    int64  \n",
            " 14  registered  730 non-null    int64  \n",
            " 15  cnt         730 non-null    int64  \n",
            "dtypes: float64(4), int64(11), object(1)\n",
            "memory usage: 91.4+ KB\n"
          ]
        }
      ]
    },
    {
      "cell_type": "code",
      "source": [
        "#check the details of numeriacl data\n",
        "bikeSharing_df.describe()"
      ],
      "metadata": {
        "colab": {
          "base_uri": "https://localhost:8080/",
          "height": 300
        },
        "id": "ZQoubufbjMSe",
        "outputId": "03b6b57c-35ef-4b21-ef58-4778a7c69fde"
      },
      "execution_count": 6,
      "outputs": [
        {
          "output_type": "execute_result",
          "data": {
            "text/html": [
              "<div>\n",
              "<style scoped>\n",
              "    .dataframe tbody tr th:only-of-type {\n",
              "        vertical-align: middle;\n",
              "    }\n",
              "\n",
              "    .dataframe tbody tr th {\n",
              "        vertical-align: top;\n",
              "    }\n",
              "\n",
              "    .dataframe thead th {\n",
              "        text-align: right;\n",
              "    }\n",
              "</style>\n",
              "<table border=\"1\" class=\"dataframe\">\n",
              "  <thead>\n",
              "    <tr style=\"text-align: right;\">\n",
              "      <th></th>\n",
              "      <th>instant</th>\n",
              "      <th>season</th>\n",
              "      <th>yr</th>\n",
              "      <th>mnth</th>\n",
              "      <th>holiday</th>\n",
              "      <th>weekday</th>\n",
              "      <th>workingday</th>\n",
              "      <th>weathersit</th>\n",
              "      <th>temp</th>\n",
              "      <th>atemp</th>\n",
              "      <th>hum</th>\n",
              "      <th>windspeed</th>\n",
              "      <th>casual</th>\n",
              "      <th>registered</th>\n",
              "      <th>cnt</th>\n",
              "    </tr>\n",
              "  </thead>\n",
              "  <tbody>\n",
              "    <tr>\n",
              "      <th>count</th>\n",
              "      <td>730.000000</td>\n",
              "      <td>730.000000</td>\n",
              "      <td>730.000000</td>\n",
              "      <td>730.000000</td>\n",
              "      <td>730.000000</td>\n",
              "      <td>730.000000</td>\n",
              "      <td>730.000000</td>\n",
              "      <td>730.000000</td>\n",
              "      <td>730.000000</td>\n",
              "      <td>730.000000</td>\n",
              "      <td>730.000000</td>\n",
              "      <td>730.000000</td>\n",
              "      <td>730.000000</td>\n",
              "      <td>730.000000</td>\n",
              "      <td>730.000000</td>\n",
              "    </tr>\n",
              "    <tr>\n",
              "      <th>mean</th>\n",
              "      <td>365.500000</td>\n",
              "      <td>2.498630</td>\n",
              "      <td>0.500000</td>\n",
              "      <td>6.526027</td>\n",
              "      <td>0.028767</td>\n",
              "      <td>2.997260</td>\n",
              "      <td>0.683562</td>\n",
              "      <td>1.394521</td>\n",
              "      <td>20.319259</td>\n",
              "      <td>23.726322</td>\n",
              "      <td>62.765175</td>\n",
              "      <td>12.763620</td>\n",
              "      <td>849.249315</td>\n",
              "      <td>3658.757534</td>\n",
              "      <td>4508.006849</td>\n",
              "    </tr>\n",
              "    <tr>\n",
              "      <th>std</th>\n",
              "      <td>210.877136</td>\n",
              "      <td>1.110184</td>\n",
              "      <td>0.500343</td>\n",
              "      <td>3.450215</td>\n",
              "      <td>0.167266</td>\n",
              "      <td>2.006161</td>\n",
              "      <td>0.465405</td>\n",
              "      <td>0.544807</td>\n",
              "      <td>7.506729</td>\n",
              "      <td>8.150308</td>\n",
              "      <td>14.237589</td>\n",
              "      <td>5.195841</td>\n",
              "      <td>686.479875</td>\n",
              "      <td>1559.758728</td>\n",
              "      <td>1936.011647</td>\n",
              "    </tr>\n",
              "    <tr>\n",
              "      <th>min</th>\n",
              "      <td>1.000000</td>\n",
              "      <td>1.000000</td>\n",
              "      <td>0.000000</td>\n",
              "      <td>1.000000</td>\n",
              "      <td>0.000000</td>\n",
              "      <td>0.000000</td>\n",
              "      <td>0.000000</td>\n",
              "      <td>1.000000</td>\n",
              "      <td>2.424346</td>\n",
              "      <td>3.953480</td>\n",
              "      <td>0.000000</td>\n",
              "      <td>1.500244</td>\n",
              "      <td>2.000000</td>\n",
              "      <td>20.000000</td>\n",
              "      <td>22.000000</td>\n",
              "    </tr>\n",
              "    <tr>\n",
              "      <th>25%</th>\n",
              "      <td>183.250000</td>\n",
              "      <td>2.000000</td>\n",
              "      <td>0.000000</td>\n",
              "      <td>4.000000</td>\n",
              "      <td>0.000000</td>\n",
              "      <td>1.000000</td>\n",
              "      <td>0.000000</td>\n",
              "      <td>1.000000</td>\n",
              "      <td>13.811885</td>\n",
              "      <td>16.889713</td>\n",
              "      <td>52.000000</td>\n",
              "      <td>9.041650</td>\n",
              "      <td>316.250000</td>\n",
              "      <td>2502.250000</td>\n",
              "      <td>3169.750000</td>\n",
              "    </tr>\n",
              "    <tr>\n",
              "      <th>50%</th>\n",
              "      <td>365.500000</td>\n",
              "      <td>3.000000</td>\n",
              "      <td>0.500000</td>\n",
              "      <td>7.000000</td>\n",
              "      <td>0.000000</td>\n",
              "      <td>3.000000</td>\n",
              "      <td>1.000000</td>\n",
              "      <td>1.000000</td>\n",
              "      <td>20.465826</td>\n",
              "      <td>24.368225</td>\n",
              "      <td>62.625000</td>\n",
              "      <td>12.125325</td>\n",
              "      <td>717.000000</td>\n",
              "      <td>3664.500000</td>\n",
              "      <td>4548.500000</td>\n",
              "    </tr>\n",
              "    <tr>\n",
              "      <th>75%</th>\n",
              "      <td>547.750000</td>\n",
              "      <td>3.000000</td>\n",
              "      <td>1.000000</td>\n",
              "      <td>10.000000</td>\n",
              "      <td>0.000000</td>\n",
              "      <td>5.000000</td>\n",
              "      <td>1.000000</td>\n",
              "      <td>2.000000</td>\n",
              "      <td>26.880615</td>\n",
              "      <td>30.445775</td>\n",
              "      <td>72.989575</td>\n",
              "      <td>15.625589</td>\n",
              "      <td>1096.500000</td>\n",
              "      <td>4783.250000</td>\n",
              "      <td>5966.000000</td>\n",
              "    </tr>\n",
              "    <tr>\n",
              "      <th>max</th>\n",
              "      <td>730.000000</td>\n",
              "      <td>4.000000</td>\n",
              "      <td>1.000000</td>\n",
              "      <td>12.000000</td>\n",
              "      <td>1.000000</td>\n",
              "      <td>6.000000</td>\n",
              "      <td>1.000000</td>\n",
              "      <td>3.000000</td>\n",
              "      <td>35.328347</td>\n",
              "      <td>42.044800</td>\n",
              "      <td>97.250000</td>\n",
              "      <td>34.000021</td>\n",
              "      <td>3410.000000</td>\n",
              "      <td>6946.000000</td>\n",
              "      <td>8714.000000</td>\n",
              "    </tr>\n",
              "  </tbody>\n",
              "</table>\n",
              "</div>"
            ],
            "text/plain": [
              "          instant      season  ...   registered          cnt\n",
              "count  730.000000  730.000000  ...   730.000000   730.000000\n",
              "mean   365.500000    2.498630  ...  3658.757534  4508.006849\n",
              "std    210.877136    1.110184  ...  1559.758728  1936.011647\n",
              "min      1.000000    1.000000  ...    20.000000    22.000000\n",
              "25%    183.250000    2.000000  ...  2502.250000  3169.750000\n",
              "50%    365.500000    3.000000  ...  3664.500000  4548.500000\n",
              "75%    547.750000    3.000000  ...  4783.250000  5966.000000\n",
              "max    730.000000    4.000000  ...  6946.000000  8714.000000\n",
              "\n",
              "[8 rows x 15 columns]"
            ]
          },
          "metadata": {},
          "execution_count": 6
        }
      ]
    },
    {
      "cell_type": "code",
      "source": [
        "#check the columns of data\n",
        "bikeSharing_df.columns"
      ],
      "metadata": {
        "colab": {
          "base_uri": "https://localhost:8080/"
        },
        "id": "3w5sRjqckfX9",
        "outputId": "6687945e-a46c-4ada-a5b0-43bf1f414ad2"
      },
      "execution_count": 7,
      "outputs": [
        {
          "output_type": "execute_result",
          "data": {
            "text/plain": [
              "Index(['instant', 'dteday', 'season', 'yr', 'mnth', 'holiday', 'weekday',\n",
              "       'workingday', 'weathersit', 'temp', 'atemp', 'hum', 'windspeed',\n",
              "       'casual', 'registered', 'cnt'],\n",
              "      dtype='object')"
            ]
          },
          "metadata": {},
          "execution_count": 7
        }
      ]
    },
    {
      "cell_type": "code",
      "source": [
        "#check the size of data\n",
        "bikeSharing_df.size"
      ],
      "metadata": {
        "colab": {
          "base_uri": "https://localhost:8080/"
        },
        "id": "9wAFFwH2mV8M",
        "outputId": "547872a5-1e1c-40da-c6a7-578fb8001267"
      },
      "execution_count": 8,
      "outputs": [
        {
          "output_type": "execute_result",
          "data": {
            "text/plain": [
              "11680"
            ]
          },
          "metadata": {},
          "execution_count": 8
        }
      ]
    },
    {
      "cell_type": "code",
      "source": [
        "#check the datatypes of data\n",
        "bikeSharing_df.dtypes"
      ],
      "metadata": {
        "colab": {
          "base_uri": "https://localhost:8080/"
        },
        "id": "OpSG3YLlmhTK",
        "outputId": "78777e86-9e43-4563-a9c9-f1c2c1d3958d"
      },
      "execution_count": 9,
      "outputs": [
        {
          "output_type": "execute_result",
          "data": {
            "text/plain": [
              "instant         int64\n",
              "dteday         object\n",
              "season          int64\n",
              "yr              int64\n",
              "mnth            int64\n",
              "holiday         int64\n",
              "weekday         int64\n",
              "workingday      int64\n",
              "weathersit      int64\n",
              "temp          float64\n",
              "atemp         float64\n",
              "hum           float64\n",
              "windspeed     float64\n",
              "casual          int64\n",
              "registered      int64\n",
              "cnt             int64\n",
              "dtype: object"
            ]
          },
          "metadata": {},
          "execution_count": 9
        }
      ]
    },
    {
      "cell_type": "code",
      "source": [
        "#check the null values \n",
        "bikeSharing_df.isnull().sum()"
      ],
      "metadata": {
        "colab": {
          "base_uri": "https://localhost:8080/"
        },
        "id": "NYjKfIXmmjjv",
        "outputId": "5dadf3b9-5e76-4918-9aae-4fa2023f1bd6"
      },
      "execution_count": 10,
      "outputs": [
        {
          "output_type": "execute_result",
          "data": {
            "text/plain": [
              "instant       0\n",
              "dteday        0\n",
              "season        0\n",
              "yr            0\n",
              "mnth          0\n",
              "holiday       0\n",
              "weekday       0\n",
              "workingday    0\n",
              "weathersit    0\n",
              "temp          0\n",
              "atemp         0\n",
              "hum           0\n",
              "windspeed     0\n",
              "casual        0\n",
              "registered    0\n",
              "cnt           0\n",
              "dtype: int64"
            ]
          },
          "metadata": {},
          "execution_count": 10
        }
      ]
    },
    {
      "cell_type": "code",
      "source": [
        "#check the unique values \n",
        "bikeSharing_df.nunique()"
      ],
      "metadata": {
        "colab": {
          "base_uri": "https://localhost:8080/"
        },
        "id": "1hx1qdpTsi9T",
        "outputId": "45bb0982-0b40-4509-a455-1c94d6bc20e9"
      },
      "execution_count": 11,
      "outputs": [
        {
          "output_type": "execute_result",
          "data": {
            "text/plain": [
              "instant       730\n",
              "dteday        730\n",
              "season          4\n",
              "yr              2\n",
              "mnth           12\n",
              "holiday         2\n",
              "weekday         7\n",
              "workingday      2\n",
              "weathersit      3\n",
              "temp          498\n",
              "atemp         689\n",
              "hum           594\n",
              "windspeed     649\n",
              "casual        605\n",
              "registered    678\n",
              "cnt           695\n",
              "dtype: int64"
            ]
          },
          "metadata": {},
          "execution_count": 11
        }
      ]
    },
    {
      "cell_type": "code",
      "source": [
        "#check the datatypes of data\n",
        "bikeSharing_df.ndim"
      ],
      "metadata": {
        "colab": {
          "base_uri": "https://localhost:8080/"
        },
        "id": "r84PuniHtDFD",
        "outputId": "4a4b3d42-90b7-4ef9-8a37-66f2341b389a"
      },
      "execution_count": 12,
      "outputs": [
        {
          "output_type": "execute_result",
          "data": {
            "text/plain": [
              "2"
            ]
          },
          "metadata": {},
          "execution_count": 12
        }
      ]
    },
    {
      "cell_type": "markdown",
      "source": [
        "# **Cleaning Data**"
      ],
      "metadata": {
        "id": "BXq58j2ItJPU"
      }
    },
    {
      "cell_type": "markdown",
      "source": [
        "**Drop columns that are not useful for analysis**"
      ],
      "metadata": {
        "id": "X28L8HLttbW2"
      }
    },
    {
      "cell_type": "markdown",
      "source": [
        "\n",
        "\n",
        "*   instant is just a row instance identifier.\n",
        "*   dteday is removed as we have some of date features like mnth and year and weekday already in other columns and also for this analysis we will not consider day to day trend in demand for bikes.\n",
        "\n",
        "*   casual and registered variables are not available at the time of prediction and also these describe the target variable cnt in a very trivial way target = casual + registered, which leads to data leakage.\n",
        "\n",
        "\n",
        "\n",
        "\n"
      ],
      "metadata": {
        "id": "XOVC3qV-tyyd"
      }
    },
    {
      "cell_type": "code",
      "source": [
        "#Before dropping date, let us introduce a days_old variable which indicates how old is the business\n",
        "bikeSharing_df['days_old'] = (pd.to_datetime(bikeSharing_df['dteday'],format= '%d-%m-%Y') - pd.to_datetime('01-01-2018',format= '%d-%m-%Y')).dt.days"
      ],
      "metadata": {
        "id": "GqIu62znumD5"
      },
      "execution_count": 13,
      "outputs": []
    },
    {
      "cell_type": "code",
      "source": [
        "#Inspect once\n",
        "bikeSharing_df.head()"
      ],
      "metadata": {
        "colab": {
          "base_uri": "https://localhost:8080/",
          "height": 206
        },
        "id": "2IjWNnN5w6CY",
        "outputId": "7de7a07e-8895-49bb-8596-238c6ad2b1f1"
      },
      "execution_count": 14,
      "outputs": [
        {
          "output_type": "execute_result",
          "data": {
            "text/html": [
              "<div>\n",
              "<style scoped>\n",
              "    .dataframe tbody tr th:only-of-type {\n",
              "        vertical-align: middle;\n",
              "    }\n",
              "\n",
              "    .dataframe tbody tr th {\n",
              "        vertical-align: top;\n",
              "    }\n",
              "\n",
              "    .dataframe thead th {\n",
              "        text-align: right;\n",
              "    }\n",
              "</style>\n",
              "<table border=\"1\" class=\"dataframe\">\n",
              "  <thead>\n",
              "    <tr style=\"text-align: right;\">\n",
              "      <th></th>\n",
              "      <th>instant</th>\n",
              "      <th>dteday</th>\n",
              "      <th>season</th>\n",
              "      <th>yr</th>\n",
              "      <th>mnth</th>\n",
              "      <th>holiday</th>\n",
              "      <th>weekday</th>\n",
              "      <th>workingday</th>\n",
              "      <th>weathersit</th>\n",
              "      <th>temp</th>\n",
              "      <th>atemp</th>\n",
              "      <th>hum</th>\n",
              "      <th>windspeed</th>\n",
              "      <th>casual</th>\n",
              "      <th>registered</th>\n",
              "      <th>cnt</th>\n",
              "      <th>days_old</th>\n",
              "    </tr>\n",
              "  </thead>\n",
              "  <tbody>\n",
              "    <tr>\n",
              "      <th>0</th>\n",
              "      <td>1</td>\n",
              "      <td>01-01-2018</td>\n",
              "      <td>1</td>\n",
              "      <td>0</td>\n",
              "      <td>1</td>\n",
              "      <td>0</td>\n",
              "      <td>6</td>\n",
              "      <td>0</td>\n",
              "      <td>2</td>\n",
              "      <td>14.110847</td>\n",
              "      <td>18.18125</td>\n",
              "      <td>80.5833</td>\n",
              "      <td>10.749882</td>\n",
              "      <td>331</td>\n",
              "      <td>654</td>\n",
              "      <td>985</td>\n",
              "      <td>0</td>\n",
              "    </tr>\n",
              "    <tr>\n",
              "      <th>1</th>\n",
              "      <td>2</td>\n",
              "      <td>02-01-2018</td>\n",
              "      <td>1</td>\n",
              "      <td>0</td>\n",
              "      <td>1</td>\n",
              "      <td>0</td>\n",
              "      <td>0</td>\n",
              "      <td>0</td>\n",
              "      <td>2</td>\n",
              "      <td>14.902598</td>\n",
              "      <td>17.68695</td>\n",
              "      <td>69.6087</td>\n",
              "      <td>16.652113</td>\n",
              "      <td>131</td>\n",
              "      <td>670</td>\n",
              "      <td>801</td>\n",
              "      <td>1</td>\n",
              "    </tr>\n",
              "    <tr>\n",
              "      <th>2</th>\n",
              "      <td>3</td>\n",
              "      <td>03-01-2018</td>\n",
              "      <td>1</td>\n",
              "      <td>0</td>\n",
              "      <td>1</td>\n",
              "      <td>0</td>\n",
              "      <td>1</td>\n",
              "      <td>1</td>\n",
              "      <td>1</td>\n",
              "      <td>8.050924</td>\n",
              "      <td>9.47025</td>\n",
              "      <td>43.7273</td>\n",
              "      <td>16.636703</td>\n",
              "      <td>120</td>\n",
              "      <td>1229</td>\n",
              "      <td>1349</td>\n",
              "      <td>2</td>\n",
              "    </tr>\n",
              "    <tr>\n",
              "      <th>3</th>\n",
              "      <td>4</td>\n",
              "      <td>04-01-2018</td>\n",
              "      <td>1</td>\n",
              "      <td>0</td>\n",
              "      <td>1</td>\n",
              "      <td>0</td>\n",
              "      <td>2</td>\n",
              "      <td>1</td>\n",
              "      <td>1</td>\n",
              "      <td>8.200000</td>\n",
              "      <td>10.60610</td>\n",
              "      <td>59.0435</td>\n",
              "      <td>10.739832</td>\n",
              "      <td>108</td>\n",
              "      <td>1454</td>\n",
              "      <td>1562</td>\n",
              "      <td>3</td>\n",
              "    </tr>\n",
              "    <tr>\n",
              "      <th>4</th>\n",
              "      <td>5</td>\n",
              "      <td>05-01-2018</td>\n",
              "      <td>1</td>\n",
              "      <td>0</td>\n",
              "      <td>1</td>\n",
              "      <td>0</td>\n",
              "      <td>3</td>\n",
              "      <td>1</td>\n",
              "      <td>1</td>\n",
              "      <td>9.305237</td>\n",
              "      <td>11.46350</td>\n",
              "      <td>43.6957</td>\n",
              "      <td>12.522300</td>\n",
              "      <td>82</td>\n",
              "      <td>1518</td>\n",
              "      <td>1600</td>\n",
              "      <td>4</td>\n",
              "    </tr>\n",
              "  </tbody>\n",
              "</table>\n",
              "</div>"
            ],
            "text/plain": [
              "   instant      dteday  season  yr  ...  casual  registered   cnt  days_old\n",
              "0        1  01-01-2018       1   0  ...     331         654   985         0\n",
              "1        2  02-01-2018       1   0  ...     131         670   801         1\n",
              "2        3  03-01-2018       1   0  ...     120        1229  1349         2\n",
              "3        4  04-01-2018       1   0  ...     108        1454  1562         3\n",
              "4        5  05-01-2018       1   0  ...      82        1518  1600         4\n",
              "\n",
              "[5 rows x 17 columns]"
            ]
          },
          "metadata": {},
          "execution_count": 14
        }
      ]
    },
    {
      "cell_type": "code",
      "source": [
        "# Droping instant column as it is index column which has nothing to do with target\n",
        "bikeSharing_df.drop(['instant'], axis = 1, inplace = True)\n",
        "\n",
        "# Dropping dteday as we have already have month and weekday columns to work with\n",
        "bikeSharing_df.drop(['dteday'], axis = 1, inplace = True)\n",
        "\n",
        "# Dropping casual and registered columnsa as as we have cnt column which is sum of the both that is the target column\n",
        "\n",
        "bikeSharing_df.drop(['casual'], axis = 1, inplace = True)\n",
        "bikeSharing_df.drop(['registered'], axis = 1, inplace = True)"
      ],
      "metadata": {
        "id": "YNhjmV3Fw9CK"
      },
      "execution_count": 15,
      "outputs": []
    },
    {
      "cell_type": "code",
      "source": [
        "#Inspect data frame after dropping\n",
        "bikeSharing_df.head()"
      ],
      "metadata": {
        "colab": {
          "base_uri": "https://localhost:8080/",
          "height": 206
        },
        "id": "hSmh5dNfxIHI",
        "outputId": "22eaa224-8d80-408e-fcc1-40c67e8adbf6"
      },
      "execution_count": 16,
      "outputs": [
        {
          "output_type": "execute_result",
          "data": {
            "text/html": [
              "<div>\n",
              "<style scoped>\n",
              "    .dataframe tbody tr th:only-of-type {\n",
              "        vertical-align: middle;\n",
              "    }\n",
              "\n",
              "    .dataframe tbody tr th {\n",
              "        vertical-align: top;\n",
              "    }\n",
              "\n",
              "    .dataframe thead th {\n",
              "        text-align: right;\n",
              "    }\n",
              "</style>\n",
              "<table border=\"1\" class=\"dataframe\">\n",
              "  <thead>\n",
              "    <tr style=\"text-align: right;\">\n",
              "      <th></th>\n",
              "      <th>season</th>\n",
              "      <th>yr</th>\n",
              "      <th>mnth</th>\n",
              "      <th>holiday</th>\n",
              "      <th>weekday</th>\n",
              "      <th>workingday</th>\n",
              "      <th>weathersit</th>\n",
              "      <th>temp</th>\n",
              "      <th>atemp</th>\n",
              "      <th>hum</th>\n",
              "      <th>windspeed</th>\n",
              "      <th>cnt</th>\n",
              "      <th>days_old</th>\n",
              "    </tr>\n",
              "  </thead>\n",
              "  <tbody>\n",
              "    <tr>\n",
              "      <th>0</th>\n",
              "      <td>1</td>\n",
              "      <td>0</td>\n",
              "      <td>1</td>\n",
              "      <td>0</td>\n",
              "      <td>6</td>\n",
              "      <td>0</td>\n",
              "      <td>2</td>\n",
              "      <td>14.110847</td>\n",
              "      <td>18.18125</td>\n",
              "      <td>80.5833</td>\n",
              "      <td>10.749882</td>\n",
              "      <td>985</td>\n",
              "      <td>0</td>\n",
              "    </tr>\n",
              "    <tr>\n",
              "      <th>1</th>\n",
              "      <td>1</td>\n",
              "      <td>0</td>\n",
              "      <td>1</td>\n",
              "      <td>0</td>\n",
              "      <td>0</td>\n",
              "      <td>0</td>\n",
              "      <td>2</td>\n",
              "      <td>14.902598</td>\n",
              "      <td>17.68695</td>\n",
              "      <td>69.6087</td>\n",
              "      <td>16.652113</td>\n",
              "      <td>801</td>\n",
              "      <td>1</td>\n",
              "    </tr>\n",
              "    <tr>\n",
              "      <th>2</th>\n",
              "      <td>1</td>\n",
              "      <td>0</td>\n",
              "      <td>1</td>\n",
              "      <td>0</td>\n",
              "      <td>1</td>\n",
              "      <td>1</td>\n",
              "      <td>1</td>\n",
              "      <td>8.050924</td>\n",
              "      <td>9.47025</td>\n",
              "      <td>43.7273</td>\n",
              "      <td>16.636703</td>\n",
              "      <td>1349</td>\n",
              "      <td>2</td>\n",
              "    </tr>\n",
              "    <tr>\n",
              "      <th>3</th>\n",
              "      <td>1</td>\n",
              "      <td>0</td>\n",
              "      <td>1</td>\n",
              "      <td>0</td>\n",
              "      <td>2</td>\n",
              "      <td>1</td>\n",
              "      <td>1</td>\n",
              "      <td>8.200000</td>\n",
              "      <td>10.60610</td>\n",
              "      <td>59.0435</td>\n",
              "      <td>10.739832</td>\n",
              "      <td>1562</td>\n",
              "      <td>3</td>\n",
              "    </tr>\n",
              "    <tr>\n",
              "      <th>4</th>\n",
              "      <td>1</td>\n",
              "      <td>0</td>\n",
              "      <td>1</td>\n",
              "      <td>0</td>\n",
              "      <td>3</td>\n",
              "      <td>1</td>\n",
              "      <td>1</td>\n",
              "      <td>9.305237</td>\n",
              "      <td>11.46350</td>\n",
              "      <td>43.6957</td>\n",
              "      <td>12.522300</td>\n",
              "      <td>1600</td>\n",
              "      <td>4</td>\n",
              "    </tr>\n",
              "  </tbody>\n",
              "</table>\n",
              "</div>"
            ],
            "text/plain": [
              "   season  yr  mnth  holiday  ...      hum  windspeed   cnt  days_old\n",
              "0       1   0     1        0  ...  80.5833  10.749882   985         0\n",
              "1       1   0     1        0  ...  69.6087  16.652113   801         1\n",
              "2       1   0     1        0  ...  43.7273  16.636703  1349         2\n",
              "3       1   0     1        0  ...  59.0435  10.739832  1562         3\n",
              "4       1   0     1        0  ...  43.6957  12.522300  1600         4\n",
              "\n",
              "[5 rows x 13 columns]"
            ]
          },
          "metadata": {},
          "execution_count": 16
        }
      ]
    },
    {
      "cell_type": "code",
      "source": [
        "bikeSharing_df.info()"
      ],
      "metadata": {
        "colab": {
          "base_uri": "https://localhost:8080/"
        },
        "id": "yXtGd8u2xM_R",
        "outputId": "387b8078-922f-4637-e3f4-eb328d033b7f"
      },
      "execution_count": 17,
      "outputs": [
        {
          "output_type": "stream",
          "name": "stdout",
          "text": [
            "<class 'pandas.core.frame.DataFrame'>\n",
            "RangeIndex: 730 entries, 0 to 729\n",
            "Data columns (total 13 columns):\n",
            " #   Column      Non-Null Count  Dtype  \n",
            "---  ------      --------------  -----  \n",
            " 0   season      730 non-null    int64  \n",
            " 1   yr          730 non-null    int64  \n",
            " 2   mnth        730 non-null    int64  \n",
            " 3   holiday     730 non-null    int64  \n",
            " 4   weekday     730 non-null    int64  \n",
            " 5   workingday  730 non-null    int64  \n",
            " 6   weathersit  730 non-null    int64  \n",
            " 7   temp        730 non-null    float64\n",
            " 8   atemp       730 non-null    float64\n",
            " 9   hum         730 non-null    float64\n",
            " 10  windspeed   730 non-null    float64\n",
            " 11  cnt         730 non-null    int64  \n",
            " 12  days_old    730 non-null    int64  \n",
            "dtypes: float64(4), int64(9)\n",
            "memory usage: 74.3 KB\n"
          ]
        }
      ]
    },
    {
      "cell_type": "markdown",
      "source": [
        "3.2 Finding Outliers\n",
        "\n",
        "\n",
        "*   Univarite outlier analysis by using Box plot\n",
        "\n",
        "\n"
      ],
      "metadata": {
        "id": "1Wn3cfsaml7T"
      }
    },
    {
      "cell_type": "code",
      "source": [
        "# Draw box plots for indepent variables with continuous values\n",
        "cols = ['temp', 'atemp', 'hum', 'windspeed']\n",
        "plt.figure(figsize=(18,4))\n",
        "\n",
        "i = 1\n",
        "for col in cols:\n",
        "    plt.subplot(1,4,i)\n",
        "    sns.boxplot(y=col, data=bikeSharing_df)\n",
        "    i+=1"
      ],
      "metadata": {
        "colab": {
          "base_uri": "https://localhost:8080/",
          "height": 254
        },
        "id": "ZuIBAhH_m8zz",
        "outputId": "01590d63-b1af-4f52-caa5-42c6c8f755b1"
      },
      "execution_count": 18,
      "outputs": [
        {
          "output_type": "display_data",
          "data": {
            "image/png": "[encoded data removed]",
            "text/plain": [
              "<Figure size 1296x288 with 4 Axes>"
            ]
          },
          "metadata": {
            "needs_background": "light"
          }
        }
      ]
    },
    {
      "cell_type": "markdown",
      "source": [
        "**Extract the outliers from hum and windspeed** "
      ],
      "metadata": {
        "id": "faZ37Ae9mqK9"
      }
    },
    {
      "cell_type": "code",
      "source": [
        "def findOutliers(col):\n",
        "  col_lq = bikeSharing_df[col].quantile(0.25)\n",
        "  col_uq = bikeSharing_df[col].quantile(0.75)\n",
        "  #extract the inter quartile range\n",
        "  col_iqr = col_uq - col_lq\n",
        "  #get the upper and lower bounds\n",
        "  lower_bound = col_lq - 2*col_iqr\n",
        "  upper_bound = col_uq + 2*col_iqr\n",
        "  #extract values outside these bounds \n",
        "  col_outliers = bikeSharing_df[(bikeSharing_df[col] <= lower_bound) | (bikeSharing_df[col] >= upper_bound)]\n",
        "  return col_outliers"
      ],
      "metadata": {
        "id": "O7DWAT0YmokK"
      },
      "execution_count": 19,
      "outputs": []
    },
    {
      "cell_type": "code",
      "source": [
        "hum_outliers=findOutliers('hum')\n",
        "hum_outliers"
      ],
      "metadata": {
        "colab": {
          "base_uri": "https://localhost:8080/",
          "height": 81
        },
        "id": "h2Ylv_BOwRHJ",
        "outputId": "3cf898ac-8e05-4d3b-c7d1-5d47f38732e4"
      },
      "execution_count": 20,
      "outputs": [
        {
          "output_type": "execute_result",
          "data": {
            "text/html": [
              "<div>\n",
              "<style scoped>\n",
              "    .dataframe tbody tr th:only-of-type {\n",
              "        vertical-align: middle;\n",
              "    }\n",
              "\n",
              "    .dataframe tbody tr th {\n",
              "        vertical-align: top;\n",
              "    }\n",
              "\n",
              "    .dataframe thead th {\n",
              "        text-align: right;\n",
              "    }\n",
              "</style>\n",
              "<table border=\"1\" class=\"dataframe\">\n",
              "  <thead>\n",
              "    <tr style=\"text-align: right;\">\n",
              "      <th></th>\n",
              "      <th>season</th>\n",
              "      <th>yr</th>\n",
              "      <th>mnth</th>\n",
              "      <th>holiday</th>\n",
              "      <th>weekday</th>\n",
              "      <th>workingday</th>\n",
              "      <th>weathersit</th>\n",
              "      <th>temp</th>\n",
              "      <th>atemp</th>\n",
              "      <th>hum</th>\n",
              "      <th>windspeed</th>\n",
              "      <th>cnt</th>\n",
              "      <th>days_old</th>\n",
              "    </tr>\n",
              "  </thead>\n",
              "  <tbody>\n",
              "    <tr>\n",
              "      <th>68</th>\n",
              "      <td>1</td>\n",
              "      <td>0</td>\n",
              "      <td>3</td>\n",
              "      <td>0</td>\n",
              "      <td>4</td>\n",
              "      <td>1</td>\n",
              "      <td>3</td>\n",
              "      <td>15.952731</td>\n",
              "      <td>19.2834</td>\n",
              "      <td>0.0</td>\n",
              "      <td>17.545759</td>\n",
              "      <td>623</td>\n",
              "      <td>68</td>\n",
              "    </tr>\n",
              "  </tbody>\n",
              "</table>\n",
              "</div>"
            ],
            "text/plain": [
              "    season  yr  mnth  holiday  weekday  ...    atemp  hum  windspeed  cnt  days_old\n",
              "68       1   0     3        0        4  ...  19.2834  0.0  17.545759  623        68\n",
              "\n",
              "[1 rows x 13 columns]"
            ]
          },
          "metadata": {},
          "execution_count": 20
        }
      ]
    },
    {
      "cell_type": "code",
      "source": [
        "windspeed_outliers=findOutliers('windspeed')\n",
        "windspeed_outliers"
      ],
      "metadata": {
        "colab": {
          "base_uri": "https://localhost:8080/",
          "height": 112
        },
        "id": "i3Aesl0bxizy",
        "outputId": "d8ab5814-00ae-465a-ac44-45d4ad138de6"
      },
      "execution_count": 21,
      "outputs": [
        {
          "output_type": "execute_result",
          "data": {
            "text/html": [
              "<div>\n",
              "<style scoped>\n",
              "    .dataframe tbody tr th:only-of-type {\n",
              "        vertical-align: middle;\n",
              "    }\n",
              "\n",
              "    .dataframe tbody tr th {\n",
              "        vertical-align: top;\n",
              "    }\n",
              "\n",
              "    .dataframe thead th {\n",
              "        text-align: right;\n",
              "    }\n",
              "</style>\n",
              "<table border=\"1\" class=\"dataframe\">\n",
              "  <thead>\n",
              "    <tr style=\"text-align: right;\">\n",
              "      <th></th>\n",
              "      <th>season</th>\n",
              "      <th>yr</th>\n",
              "      <th>mnth</th>\n",
              "      <th>holiday</th>\n",
              "      <th>weekday</th>\n",
              "      <th>workingday</th>\n",
              "      <th>weathersit</th>\n",
              "      <th>temp</th>\n",
              "      <th>atemp</th>\n",
              "      <th>hum</th>\n",
              "      <th>windspeed</th>\n",
              "      <th>cnt</th>\n",
              "      <th>days_old</th>\n",
              "    </tr>\n",
              "  </thead>\n",
              "  <tbody>\n",
              "    <tr>\n",
              "      <th>49</th>\n",
              "      <td>1</td>\n",
              "      <td>0</td>\n",
              "      <td>2</td>\n",
              "      <td>0</td>\n",
              "      <td>6</td>\n",
              "      <td>0</td>\n",
              "      <td>1</td>\n",
              "      <td>16.365847</td>\n",
              "      <td>19.5702</td>\n",
              "      <td>18.7917</td>\n",
              "      <td>34.000021</td>\n",
              "      <td>1635</td>\n",
              "      <td>49</td>\n",
              "    </tr>\n",
              "    <tr>\n",
              "      <th>431</th>\n",
              "      <td>1</td>\n",
              "      <td>1</td>\n",
              "      <td>3</td>\n",
              "      <td>0</td>\n",
              "      <td>4</td>\n",
              "      <td>1</td>\n",
              "      <td>1</td>\n",
              "      <td>21.627500</td>\n",
              "      <td>26.2302</td>\n",
              "      <td>56.7500</td>\n",
              "      <td>29.584721</td>\n",
              "      <td>5382</td>\n",
              "      <td>431</td>\n",
              "    </tr>\n",
              "  </tbody>\n",
              "</table>\n",
              "</div>"
            ],
            "text/plain": [
              "     season  yr  mnth  holiday  ...      hum  windspeed   cnt  days_old\n",
              "49        1   0     2        0  ...  18.7917  34.000021  1635        49\n",
              "431       1   1     3        0  ...  56.7500  29.584721  5382       431\n",
              "\n",
              "[2 rows x 13 columns]"
            ]
          },
          "metadata": {},
          "execution_count": 21
        }
      ]
    },
    {
      "cell_type": "code",
      "source": [
        "rows_toremove=[]\n",
        "outliers=pd.concat([windspeed_outliers,hum_outliers])\n",
        "print(outliers)\n"
      ],
      "metadata": {
        "colab": {
          "base_uri": "https://localhost:8080/"
        },
        "id": "NWUzWPrG2iKq",
        "outputId": "650addcd-ea20-4c5a-827e-383cef8e9c37"
      },
      "execution_count": 22,
      "outputs": [
        {
          "output_type": "stream",
          "name": "stdout",
          "text": [
            "     season  yr  mnth  holiday  ...      hum  windspeed   cnt  days_old\n",
            "49        1   0     2        0  ...  18.7917  34.000021  1635        49\n",
            "431       1   1     3        0  ...  56.7500  29.584721  5382       431\n",
            "68        1   0     3        0  ...   0.0000  17.545759   623        68\n",
            "\n",
            "[3 rows x 13 columns]\n"
          ]
        }
      ]
    },
    {
      "cell_type": "code",
      "source": [
        "for row in outliers.index:\n",
        "   rows_toremove.append(row)"
      ],
      "metadata": {
        "id": "7T-n2Nfj4sRE"
      },
      "execution_count": 23,
      "outputs": []
    },
    {
      "cell_type": "code",
      "source": [
        "#removing the outliers data \n",
        "bikeSharing_df=bikeSharing_df.drop(rows_toremove,axis=0)"
      ],
      "metadata": {
        "id": "vPV8Orv6yKPW"
      },
      "execution_count": 24,
      "outputs": []
    },
    {
      "cell_type": "code",
      "source": [
        "#boxplot after removing the outliers\n",
        "cols = ['temp', 'atemp', 'hum', 'windspeed']\n",
        "plt.figure(figsize=(18,4))\n",
        "\n",
        "i = 1\n",
        "for col in cols:\n",
        "    plt.subplot(1,4,i)\n",
        "    sns.boxplot(y=col, data=bikeSharing_df)\n",
        "    i+=1"
      ],
      "metadata": {
        "colab": {
          "base_uri": "https://localhost:8080/",
          "height": 254
        },
        "id": "BB492f_5yWqa",
        "outputId": "942c5543-77c0-49c3-e71d-912df4c5fb8b"
      },
      "execution_count": 25,
      "outputs": [
        {
          "output_type": "display_data",
          "data": {
            "image/png": "[encoded data removed]",
            "text/plain": [
              "<Figure size 1296x288 with 4 Axes>"
            ]
          },
          "metadata": {
            "needs_background": "light"
          }
        }
      ]
    },
    {
      "cell_type": "markdown",
      "source": [
        "**Visualing Numeric Variables**\n"
      ],
      "metadata": {
        "id": "Ar9s78hjy-iJ"
      }
    },
    {
      "cell_type": "code",
      "source": [
        "# Create a new dataframe of only numeric variables:\n",
        "bikeSharing_num=bikeSharing_df[[ 'temp', 'atemp', 'hum', 'windspeed','cnt']]\n",
        "sns.pairplot(bikeSharing_num, diag_kind='kde')\n",
        "plt.show()"
      ],
      "metadata": {
        "colab": {
          "base_uri": "https://localhost:8080/",
          "height": 903
        },
        "id": "PoCEXF97zdPo",
        "outputId": "8c833eff-6e2c-44b2-f8a1-e24b1b959cb5"
      },
      "execution_count": 26,
      "outputs": [
        {
          "output_type": "display_data",
          "data": {
            "image/png": "[encoded data removed]",
            "text/plain": [
              "<Figure size 900x900 with 30 Axes>"
            ]
          },
          "metadata": {
            "needs_background": "light"
          }
        }
      ]
    },
    {
      "cell_type": "markdown",
      "source": [
        "**Insights**\n",
        "\n",
        "*   The above Pair-Plot tells us that there is a LINEAR RELATION between 'temp','atemp' and 'cnt'\n",
        "\n",
        "\n",
        "\n",
        "\n",
        "\n"
      ],
      "metadata": {
        "id": "XtO2003n1Ksc"
      }
    },
    {
      "cell_type": "markdown",
      "source": [
        "**Visualising Categorical Variables**"
      ],
      "metadata": {
        "id": "yKAhiJmJ2ExT"
      }
    },
    {
      "cell_type": "code",
      "source": [
        "vars_cat = ['season','yr','mnth','holiday','weekday','workingday','weathersit']\n",
        "plt.figure(figsize=(15, 15))\n",
        "for i in enumerate(vars_cat):\n",
        "    plt.subplot(3,3,i[0]+1)\n",
        "    sns.boxplot(data=bikeSharing_df, x=i[1], y='cnt')\n",
        "plt.show()"
      ],
      "metadata": {
        "colab": {
          "base_uri": "https://localhost:8080/",
          "height": 877
        },
        "id": "sta7IzHW1R9f",
        "outputId": "44ef555f-145f-4fe4-e685-17014a623efe"
      },
      "execution_count": 27,
      "outputs": [
        {
          "output_type": "display_data",
          "data": {
            "image/png": "[encoded data removed]",
            "text/plain": [
              "<Figure size 1080x1080 with 7 Axes>"
            ]
          },
          "metadata": {
            "needs_background": "light"
          }
        }
      ]
    },
    {
      "cell_type": "markdown",
      "source": [
        "The following are the insights drawn from the above graphs\n",
        "\n",
        "*   **Season**:season 3 has the highest number of bikes are rented out followed by the summer \n",
        "*  **month**:during september the bookings are higher and  then its starts droping from november.The count started increased from april to  september and then decresed due to the winter season \n",
        "\n",
        "\n",
        "*  **weathersit**:Most of the bikes rented during weathersit 1 followed by wethersit 2 and 3 which indicates when weather is gud  we can expect more bikes to get rented out\n",
        "*   **holiday**:The bookings are higher during non holidays \n",
        "* **weekday**:weekday variable shows very close trend  having their independent medians between 4000 to 5000 bookings. This variable can have some or no influence towards the predictor. I will let the model decide if this needs to be added or not.\n",
        "\n",
        "*   **workingday**:‘workingday’ with a median of close to 5000 booking (for the period of 2 years). Workinday median is higher than the holiday\n",
        "*   \n",
        "\n",
        "\n",
        "\n",
        "\n"
      ],
      "metadata": {
        "id": "TRjgmipg51Pe"
      }
    },
    {
      "cell_type": "markdown",
      "source": [
        "**Correlation Matrix**"
      ],
      "metadata": {
        "id": "nrlGfL2rDgPo"
      }
    },
    {
      "cell_type": "code",
      "source": [
        "plt.figure(figsize = (25,20))\n",
        "sns.heatmap(bikeSharing_df.corr(), annot = True, cmap=\"RdBu\")\n",
        "plt.show()"
      ],
      "metadata": {
        "colab": {
          "base_uri": "https://localhost:8080/",
          "height": 1000
        },
        "id": "H9mIzxlZDsrC",
        "outputId": "73c9db6a-9d38-476f-f5c0-6e14191e57fe"
      },
      "execution_count": 28,
      "outputs": [
        {
          "output_type": "display_data",
          "data": {
            "image/png": "[encoded data removed]",
            "text/plain": [
              "<Figure size 1800x1440 with 2 Axes>"
            ]
          },
          "metadata": {
            "needs_background": "light"
          }
        }
      ]
    },
    {
      "cell_type": "markdown",
      "source": [
        "**Insights**:\n",
        "\n",
        "*  The heatmap shows there is a multicollinearity between temp and atemp,year and days_old .\n",
        "*   During features selection process in model construction  by using vif and p value these features can be removed or kept\n",
        "\n"
      ],
      "metadata": {
        "id": "wB5naVJOFv0d"
      }
    },
    {
      "cell_type": "markdown",
      "source": [
        "# 4.RESCALING THE FEATURES"
      ],
      "metadata": {
        "id": "_G7HnPUZGrtR"
      }
    },
    {
      "cell_type": "code",
      "source": [
        "from sklearn.preprocessing import MinMaxScaler"
      ],
      "metadata": {
        "id": "IJa6HkSIHbMO"
      },
      "execution_count": 29,
      "outputs": []
    },
    {
      "cell_type": "code",
      "source": [
        "scaler = MinMaxScaler()"
      ],
      "metadata": {
        "id": "REnEws04HfNv"
      },
      "execution_count": 30,
      "outputs": []
    },
    {
      "cell_type": "code",
      "source": [
        "bikeSharing_df.head()"
      ],
      "metadata": {
        "colab": {
          "base_uri": "https://localhost:8080/",
          "height": 206
        },
        "id": "XoxWX3ZNHmep",
        "outputId": "32dd181a-1df8-480f-eea3-61c7f0c97cc0"
      },
      "execution_count": 31,
      "outputs": [
        {
          "output_type": "execute_result",
          "data": {
            "text/html": [
              "<div>\n",
              "<style scoped>\n",
              "    .dataframe tbody tr th:only-of-type {\n",
              "        vertical-align: middle;\n",
              "    }\n",
              "\n",
              "    .dataframe tbody tr th {\n",
              "        vertical-align: top;\n",
              "    }\n",
              "\n",
              "    .dataframe thead th {\n",
              "        text-align: right;\n",
              "    }\n",
              "</style>\n",
              "<table border=\"1\" class=\"dataframe\">\n",
              "  <thead>\n",
              "    <tr style=\"text-align: right;\">\n",
              "      <th></th>\n",
              "      <th>season</th>\n",
              "      <th>yr</th>\n",
              "      <th>mnth</th>\n",
              "      <th>holiday</th>\n",
              "      <th>weekday</th>\n",
              "      <th>workingday</th>\n",
              "      <th>weathersit</th>\n",
              "      <th>temp</th>\n",
              "      <th>atemp</th>\n",
              "      <th>hum</th>\n",
              "      <th>windspeed</th>\n",
              "      <th>cnt</th>\n",
              "      <th>days_old</th>\n",
              "    </tr>\n",
              "  </thead>\n",
              "  <tbody>\n",
              "    <tr>\n",
              "      <th>0</th>\n",
              "      <td>1</td>\n",
              "      <td>0</td>\n",
              "      <td>1</td>\n",
              "      <td>0</td>\n",
              "      <td>6</td>\n",
              "      <td>0</td>\n",
              "      <td>2</td>\n",
              "      <td>14.110847</td>\n",
              "      <td>18.18125</td>\n",
              "      <td>80.5833</td>\n",
              "      <td>10.749882</td>\n",
              "      <td>985</td>\n",
              "      <td>0</td>\n",
              "    </tr>\n",
              "    <tr>\n",
              "      <th>1</th>\n",
              "      <td>1</td>\n",
              "      <td>0</td>\n",
              "      <td>1</td>\n",
              "      <td>0</td>\n",
              "      <td>0</td>\n",
              "      <td>0</td>\n",
              "      <td>2</td>\n",
              "      <td>14.902598</td>\n",
              "      <td>17.68695</td>\n",
              "      <td>69.6087</td>\n",
              "      <td>16.652113</td>\n",
              "      <td>801</td>\n",
              "      <td>1</td>\n",
              "    </tr>\n",
              "    <tr>\n",
              "      <th>2</th>\n",
              "      <td>1</td>\n",
              "      <td>0</td>\n",
              "      <td>1</td>\n",
              "      <td>0</td>\n",
              "      <td>1</td>\n",
              "      <td>1</td>\n",
              "      <td>1</td>\n",
              "      <td>8.050924</td>\n",
              "      <td>9.47025</td>\n",
              "      <td>43.7273</td>\n",
              "      <td>16.636703</td>\n",
              "      <td>1349</td>\n",
              "      <td>2</td>\n",
              "    </tr>\n",
              "    <tr>\n",
              "      <th>3</th>\n",
              "      <td>1</td>\n",
              "      <td>0</td>\n",
              "      <td>1</td>\n",
              "      <td>0</td>\n",
              "      <td>2</td>\n",
              "      <td>1</td>\n",
              "      <td>1</td>\n",
              "      <td>8.200000</td>\n",
              "      <td>10.60610</td>\n",
              "      <td>59.0435</td>\n",
              "      <td>10.739832</td>\n",
              "      <td>1562</td>\n",
              "      <td>3</td>\n",
              "    </tr>\n",
              "    <tr>\n",
              "      <th>4</th>\n",
              "      <td>1</td>\n",
              "      <td>0</td>\n",
              "      <td>1</td>\n",
              "      <td>0</td>\n",
              "      <td>3</td>\n",
              "      <td>1</td>\n",
              "      <td>1</td>\n",
              "      <td>9.305237</td>\n",
              "      <td>11.46350</td>\n",
              "      <td>43.6957</td>\n",
              "      <td>12.522300</td>\n",
              "      <td>1600</td>\n",
              "      <td>4</td>\n",
              "    </tr>\n",
              "  </tbody>\n",
              "</table>\n",
              "</div>"
            ],
            "text/plain": [
              "   season  yr  mnth  holiday  ...      hum  windspeed   cnt  days_old\n",
              "0       1   0     1        0  ...  80.5833  10.749882   985         0\n",
              "1       1   0     1        0  ...  69.6087  16.652113   801         1\n",
              "2       1   0     1        0  ...  43.7273  16.636703  1349         2\n",
              "3       1   0     1        0  ...  59.0435  10.739832  1562         3\n",
              "4       1   0     1        0  ...  43.6957  12.522300  1600         4\n",
              "\n",
              "[5 rows x 13 columns]"
            ]
          },
          "metadata": {},
          "execution_count": 31
        }
      ]
    },
    {
      "cell_type": "code",
      "source": [
        "bikeSharing_df.columns"
      ],
      "metadata": {
        "colab": {
          "base_uri": "https://localhost:8080/"
        },
        "id": "8KDQoeApLT1S",
        "outputId": "3f6d1751-b764-423c-a587-26079328a6ec"
      },
      "execution_count": 32,
      "outputs": [
        {
          "output_type": "execute_result",
          "data": {
            "text/plain": [
              "Index(['season', 'yr', 'mnth', 'holiday', 'weekday', 'workingday',\n",
              "       'weathersit', 'temp', 'atemp', 'hum', 'windspeed', 'cnt', 'days_old'],\n",
              "      dtype='object')"
            ]
          },
          "metadata": {},
          "execution_count": 32
        }
      ]
    },
    {
      "cell_type": "code",
      "source": [
        "# Apply scaler() to all the numeric variables\n",
        "\n",
        "num_vars = ['temp', 'atemp', 'hum', 'windspeed','cnt']\n",
        "bikeSharing_df[num_vars] = scaler.fit_transform(bikeSharing_df[num_vars])"
      ],
      "metadata": {
        "id": "BsgzQairLbE8"
      },
      "execution_count": 33,
      "outputs": []
    },
    {
      "cell_type": "code",
      "source": [
        "# Checking values after scaling\n",
        "bikeSharing_df.head()"
      ],
      "metadata": {
        "colab": {
          "base_uri": "https://localhost:8080/",
          "height": 206
        },
        "id": "tkV_SOQKLoMG",
        "outputId": "1153c2cb-4e0a-4b36-f4ba-2283e8a7892e"
      },
      "execution_count": 34,
      "outputs": [
        {
          "output_type": "execute_result",
          "data": {
            "text/html": [
              "<div>\n",
              "<style scoped>\n",
              "    .dataframe tbody tr th:only-of-type {\n",
              "        vertical-align: middle;\n",
              "    }\n",
              "\n",
              "    .dataframe tbody tr th {\n",
              "        vertical-align: top;\n",
              "    }\n",
              "\n",
              "    .dataframe thead th {\n",
              "        text-align: right;\n",
              "    }\n",
              "</style>\n",
              "<table border=\"1\" class=\"dataframe\">\n",
              "  <thead>\n",
              "    <tr style=\"text-align: right;\">\n",
              "      <th></th>\n",
              "      <th>season</th>\n",
              "      <th>yr</th>\n",
              "      <th>mnth</th>\n",
              "      <th>holiday</th>\n",
              "      <th>weekday</th>\n",
              "      <th>workingday</th>\n",
              "      <th>weathersit</th>\n",
              "      <th>temp</th>\n",
              "      <th>atemp</th>\n",
              "      <th>hum</th>\n",
              "      <th>windspeed</th>\n",
              "      <th>cnt</th>\n",
              "      <th>days_old</th>\n",
              "    </tr>\n",
              "  </thead>\n",
              "  <tbody>\n",
              "    <tr>\n",
              "      <th>0</th>\n",
              "      <td>1</td>\n",
              "      <td>0</td>\n",
              "      <td>1</td>\n",
              "      <td>0</td>\n",
              "      <td>6</td>\n",
              "      <td>0</td>\n",
              "      <td>2</td>\n",
              "      <td>0.355170</td>\n",
              "      <td>0.373517</td>\n",
              "      <td>0.767981</td>\n",
              "      <td>0.345236</td>\n",
              "      <td>0.110792</td>\n",
              "      <td>0</td>\n",
              "    </tr>\n",
              "    <tr>\n",
              "      <th>1</th>\n",
              "      <td>1</td>\n",
              "      <td>0</td>\n",
              "      <td>1</td>\n",
              "      <td>0</td>\n",
              "      <td>0</td>\n",
              "      <td>0</td>\n",
              "      <td>2</td>\n",
              "      <td>0.379232</td>\n",
              "      <td>0.360541</td>\n",
              "      <td>0.615202</td>\n",
              "      <td>0.565533</td>\n",
              "      <td>0.089623</td>\n",
              "      <td>1</td>\n",
              "    </tr>\n",
              "    <tr>\n",
              "      <th>2</th>\n",
              "      <td>1</td>\n",
              "      <td>0</td>\n",
              "      <td>1</td>\n",
              "      <td>0</td>\n",
              "      <td>1</td>\n",
              "      <td>1</td>\n",
              "      <td>1</td>\n",
              "      <td>0.171000</td>\n",
              "      <td>0.144830</td>\n",
              "      <td>0.254904</td>\n",
              "      <td>0.564958</td>\n",
              "      <td>0.152669</td>\n",
              "      <td>2</td>\n",
              "    </tr>\n",
              "    <tr>\n",
              "      <th>3</th>\n",
              "      <td>1</td>\n",
              "      <td>0</td>\n",
              "      <td>1</td>\n",
              "      <td>0</td>\n",
              "      <td>2</td>\n",
              "      <td>1</td>\n",
              "      <td>1</td>\n",
              "      <td>0.175530</td>\n",
              "      <td>0.174649</td>\n",
              "      <td>0.468123</td>\n",
              "      <td>0.344861</td>\n",
              "      <td>0.177174</td>\n",
              "      <td>3</td>\n",
              "    </tr>\n",
              "    <tr>\n",
              "      <th>4</th>\n",
              "      <td>1</td>\n",
              "      <td>0</td>\n",
              "      <td>1</td>\n",
              "      <td>0</td>\n",
              "      <td>3</td>\n",
              "      <td>1</td>\n",
              "      <td>1</td>\n",
              "      <td>0.209120</td>\n",
              "      <td>0.197158</td>\n",
              "      <td>0.254464</td>\n",
              "      <td>0.411391</td>\n",
              "      <td>0.181546</td>\n",
              "      <td>4</td>\n",
              "    </tr>\n",
              "  </tbody>\n",
              "</table>\n",
              "</div>"
            ],
            "text/plain": [
              "   season  yr  mnth  holiday  ...       hum  windspeed       cnt  days_old\n",
              "0       1   0     1        0  ...  0.767981   0.345236  0.110792         0\n",
              "1       1   0     1        0  ...  0.615202   0.565533  0.089623         1\n",
              "2       1   0     1        0  ...  0.254904   0.564958  0.152669         2\n",
              "3       1   0     1        0  ...  0.468123   0.344861  0.177174         3\n",
              "4       1   0     1        0  ...  0.254464   0.411391  0.181546         4\n",
              "\n",
              "[5 rows x 13 columns]"
            ]
          },
          "metadata": {},
          "execution_count": 34
        }
      ]
    },
    {
      "cell_type": "code",
      "source": [
        "bikeSharing_df.describe()"
      ],
      "metadata": {
        "colab": {
          "base_uri": "https://localhost:8080/",
          "height": 300
        },
        "id": "_8xtutFGO6dT",
        "outputId": "5f621643-a1c7-48d6-cdf8-ef92f4af4770"
      },
      "execution_count": 35,
      "outputs": [
        {
          "output_type": "execute_result",
          "data": {
            "text/html": [
              "<div>\n",
              "<style scoped>\n",
              "    .dataframe tbody tr th:only-of-type {\n",
              "        vertical-align: middle;\n",
              "    }\n",
              "\n",
              "    .dataframe tbody tr th {\n",
              "        vertical-align: top;\n",
              "    }\n",
              "\n",
              "    .dataframe thead th {\n",
              "        text-align: right;\n",
              "    }\n",
              "</style>\n",
              "<table border=\"1\" class=\"dataframe\">\n",
              "  <thead>\n",
              "    <tr style=\"text-align: right;\">\n",
              "      <th></th>\n",
              "      <th>season</th>\n",
              "      <th>yr</th>\n",
              "      <th>mnth</th>\n",
              "      <th>holiday</th>\n",
              "      <th>weekday</th>\n",
              "      <th>workingday</th>\n",
              "      <th>weathersit</th>\n",
              "      <th>temp</th>\n",
              "      <th>atemp</th>\n",
              "      <th>hum</th>\n",
              "      <th>windspeed</th>\n",
              "      <th>cnt</th>\n",
              "      <th>days_old</th>\n",
              "    </tr>\n",
              "  </thead>\n",
              "  <tbody>\n",
              "    <tr>\n",
              "      <th>count</th>\n",
              "      <td>727.000000</td>\n",
              "      <td>727.000000</td>\n",
              "      <td>727.000000</td>\n",
              "      <td>727.000000</td>\n",
              "      <td>727.000000</td>\n",
              "      <td>727.000000</td>\n",
              "      <td>727.000000</td>\n",
              "      <td>727.000000</td>\n",
              "      <td>727.000000</td>\n",
              "      <td>727.000000</td>\n",
              "      <td>727.000000</td>\n",
              "      <td>727.000000</td>\n",
              "      <td>727.000000</td>\n",
              "    </tr>\n",
              "    <tr>\n",
              "      <th>mean</th>\n",
              "      <td>2.504814</td>\n",
              "      <td>0.500688</td>\n",
              "      <td>6.541953</td>\n",
              "      <td>0.028886</td>\n",
              "      <td>2.990371</td>\n",
              "      <td>0.683631</td>\n",
              "      <td>1.393398</td>\n",
              "      <td>0.544145</td>\n",
              "      <td>0.519311</td>\n",
              "      <td>0.522092</td>\n",
              "      <td>0.418198</td>\n",
              "      <td>0.517039</td>\n",
              "      <td>365.250344</td>\n",
              "    </tr>\n",
              "    <tr>\n",
              "      <th>std</th>\n",
              "      <td>1.108279</td>\n",
              "      <td>0.500344</td>\n",
              "      <td>3.448254</td>\n",
              "      <td>0.167601</td>\n",
              "      <td>2.006509</td>\n",
              "      <td>0.465379</td>\n",
              "      <td>0.542274</td>\n",
              "      <td>0.228510</td>\n",
              "      <td>0.214313</td>\n",
              "      <td>0.194589</td>\n",
              "      <td>0.190546</td>\n",
              "      <td>0.222206</td>\n",
              "      <td>210.684763</td>\n",
              "    </tr>\n",
              "    <tr>\n",
              "      <th>min</th>\n",
              "      <td>1.000000</td>\n",
              "      <td>0.000000</td>\n",
              "      <td>1.000000</td>\n",
              "      <td>0.000000</td>\n",
              "      <td>0.000000</td>\n",
              "      <td>0.000000</td>\n",
              "      <td>1.000000</td>\n",
              "      <td>0.000000</td>\n",
              "      <td>0.000000</td>\n",
              "      <td>0.000000</td>\n",
              "      <td>0.000000</td>\n",
              "      <td>0.000000</td>\n",
              "      <td>0.000000</td>\n",
              "    </tr>\n",
              "    <tr>\n",
              "      <th>25%</th>\n",
              "      <td>2.000000</td>\n",
              "      <td>0.000000</td>\n",
              "      <td>4.000000</td>\n",
              "      <td>0.000000</td>\n",
              "      <td>1.000000</td>\n",
              "      <td>0.000000</td>\n",
              "      <td>1.000000</td>\n",
              "      <td>0.345305</td>\n",
              "      <td>0.339238</td>\n",
              "      <td>0.371519</td>\n",
              "      <td>0.280718</td>\n",
              "      <td>0.364703</td>\n",
              "      <td>183.500000</td>\n",
              "    </tr>\n",
              "    <tr>\n",
              "      <th>50%</th>\n",
              "      <td>3.000000</td>\n",
              "      <td>1.000000</td>\n",
              "      <td>7.000000</td>\n",
              "      <td>0.000000</td>\n",
              "      <td>3.000000</td>\n",
              "      <td>1.000000</td>\n",
              "      <td>1.000000</td>\n",
              "      <td>0.549345</td>\n",
              "      <td>0.536771</td>\n",
              "      <td>0.519721</td>\n",
              "      <td>0.396554</td>\n",
              "      <td>0.520824</td>\n",
              "      <td>365.000000</td>\n",
              "    </tr>\n",
              "    <tr>\n",
              "      <th>75%</th>\n",
              "      <td>3.000000</td>\n",
              "      <td>1.000000</td>\n",
              "      <td>10.000000</td>\n",
              "      <td>0.000000</td>\n",
              "      <td>5.000000</td>\n",
              "      <td>1.000000</td>\n",
              "      <td>2.000000</td>\n",
              "      <td>0.743521</td>\n",
              "      <td>0.696732</td>\n",
              "      <td>0.662703</td>\n",
              "      <td>0.526892</td>\n",
              "      <td>0.685573</td>\n",
              "      <td>547.500000</td>\n",
              "    </tr>\n",
              "    <tr>\n",
              "      <th>max</th>\n",
              "      <td>4.000000</td>\n",
              "      <td>1.000000</td>\n",
              "      <td>12.000000</td>\n",
              "      <td>1.000000</td>\n",
              "      <td>6.000000</td>\n",
              "      <td>1.000000</td>\n",
              "      <td>3.000000</td>\n",
              "      <td>1.000000</td>\n",
              "      <td>1.000000</td>\n",
              "      <td>1.000000</td>\n",
              "      <td>1.000000</td>\n",
              "      <td>1.000000</td>\n",
              "      <td>729.000000</td>\n",
              "    </tr>\n",
              "  </tbody>\n",
              "</table>\n",
              "</div>"
            ],
            "text/plain": [
              "           season          yr        mnth  ...   windspeed         cnt    days_old\n",
              "count  727.000000  727.000000  727.000000  ...  727.000000  727.000000  727.000000\n",
              "mean     2.504814    0.500688    6.541953  ...    0.418198    0.517039  365.250344\n",
              "std      1.108279    0.500344    3.448254  ...    0.190546    0.222206  210.684763\n",
              "min      1.000000    0.000000    1.000000  ...    0.000000    0.000000    0.000000\n",
              "25%      2.000000    0.000000    4.000000  ...    0.280718    0.364703  183.500000\n",
              "50%      3.000000    1.000000    7.000000  ...    0.396554    0.520824  365.000000\n",
              "75%      3.000000    1.000000   10.000000  ...    0.526892    0.685573  547.500000\n",
              "max      4.000000    1.000000   12.000000  ...    1.000000    1.000000  729.000000\n",
              "\n",
              "[8 rows x 13 columns]"
            ]
          },
          "metadata": {},
          "execution_count": 35
        }
      ]
    },
    {
      "cell_type": "markdown",
      "source": [
        "# Encoding categorical data"
      ],
      "metadata": {
        "id": "e3EVvrJAQEXQ"
      }
    },
    {
      "cell_type": "code",
      "source": [
        "bikeSharing_df = pd.get_dummies(data=bikeSharing_df,columns=[\"season\",\"mnth\",\"weekday\"],drop_first=True)\n",
        "bikeSharing_df = pd.get_dummies(data=bikeSharing_df,columns=[\"weathersit\"])"
      ],
      "metadata": {
        "id": "Wp9MeEKxQVGv"
      },
      "execution_count": 36,
      "outputs": []
    },
    {
      "cell_type": "markdown",
      "source": [
        "\n",
        "\n",
        "*   Dropping the first columns as (p-1) dummies can explain p categories.\n",
        "*   In weathersit first column was not dropped so as to not lose the info about severe weather situation.\n",
        "\n"
      ],
      "metadata": {
        "id": "XQsYOktIVONi"
      }
    },
    {
      "cell_type": "code",
      "source": [
        "bikeSharing_df.columns"
      ],
      "metadata": {
        "colab": {
          "base_uri": "https://localhost:8080/"
        },
        "id": "qHcDf_7jQu8O",
        "outputId": "84e56731-0584-438a-de85-adc87185b2c7"
      },
      "execution_count": 37,
      "outputs": [
        {
          "output_type": "execute_result",
          "data": {
            "text/plain": [
              "Index(['yr', 'holiday', 'workingday', 'temp', 'atemp', 'hum', 'windspeed',\n",
              "       'cnt', 'days_old', 'season_2', 'season_3', 'season_4', 'mnth_2',\n",
              "       'mnth_3', 'mnth_4', 'mnth_5', 'mnth_6', 'mnth_7', 'mnth_8', 'mnth_9',\n",
              "       'mnth_10', 'mnth_11', 'mnth_12', 'weekday_1', 'weekday_2', 'weekday_3',\n",
              "       'weekday_4', 'weekday_5', 'weekday_6', 'weathersit_1', 'weathersit_2',\n",
              "       'weathersit_3'],\n",
              "      dtype='object')"
            ]
          },
          "metadata": {},
          "execution_count": 37
        }
      ]
    },
    {
      "cell_type": "markdown",
      "source": [
        "# BUILDING A LINEAR MODEL"
      ],
      "metadata": {
        "id": "Z3r2KCMdPBJK"
      }
    },
    {
      "cell_type": "markdown",
      "source": [
        "**Dividing the data into train and test for model building**"
      ],
      "metadata": {
        "id": "MB4UM-f8NMEl"
      }
    },
    {
      "cell_type": "code",
      "source": [
        "#y to contain only target variable\n",
        "y=bikeSharing_df.pop('cnt')\n",
        "\n",
        "#X is all remainign variable also our independent variables\n",
        "X=bikeSharing_df\n",
        "\n",
        "#Train Test split with 70:30 ratio\n",
        "X_train, X_test, y_train, y_test = train_test_split(X, y, test_size=0.3, random_state=42)"
      ],
      "metadata": {
        "id": "h2tPFoHDPJOk"
      },
      "execution_count": 38,
      "outputs": []
    },
    {
      "cell_type": "code",
      "source": [
        "#Inspect independent variables\n",
        "X.head()"
      ],
      "metadata": {
        "colab": {
          "base_uri": "https://localhost:8080/",
          "height": 226
        },
        "id": "BKw2I34lOxSA",
        "outputId": "56dcf0bd-7eab-4096-e891-e32b26ec0d87"
      },
      "execution_count": 39,
      "outputs": [
        {
          "output_type": "execute_result",
          "data": {
            "text/html": [
              "<div>\n",
              "<style scoped>\n",
              "    .dataframe tbody tr th:only-of-type {\n",
              "        vertical-align: middle;\n",
              "    }\n",
              "\n",
              "    .dataframe tbody tr th {\n",
              "        vertical-align: top;\n",
              "    }\n",
              "\n",
              "    .dataframe thead th {\n",
              "        text-align: right;\n",
              "    }\n",
              "</style>\n",
              "<table border=\"1\" class=\"dataframe\">\n",
              "  <thead>\n",
              "    <tr style=\"text-align: right;\">\n",
              "      <th></th>\n",
              "      <th>yr</th>\n",
              "      <th>holiday</th>\n",
              "      <th>workingday</th>\n",
              "      <th>temp</th>\n",
              "      <th>atemp</th>\n",
              "      <th>hum</th>\n",
              "      <th>windspeed</th>\n",
              "      <th>days_old</th>\n",
              "      <th>season_2</th>\n",
              "      <th>season_3</th>\n",
              "      <th>season_4</th>\n",
              "      <th>mnth_2</th>\n",
              "      <th>mnth_3</th>\n",
              "      <th>mnth_4</th>\n",
              "      <th>mnth_5</th>\n",
              "      <th>mnth_6</th>\n",
              "      <th>mnth_7</th>\n",
              "      <th>mnth_8</th>\n",
              "      <th>mnth_9</th>\n",
              "      <th>mnth_10</th>\n",
              "      <th>mnth_11</th>\n",
              "      <th>mnth_12</th>\n",
              "      <th>weekday_1</th>\n",
              "      <th>weekday_2</th>\n",
              "      <th>weekday_3</th>\n",
              "      <th>weekday_4</th>\n",
              "      <th>weekday_5</th>\n",
              "      <th>weekday_6</th>\n",
              "      <th>weathersit_1</th>\n",
              "      <th>weathersit_2</th>\n",
              "      <th>weathersit_3</th>\n",
              "    </tr>\n",
              "  </thead>\n",
              "  <tbody>\n",
              "    <tr>\n",
              "      <th>0</th>\n",
              "      <td>0</td>\n",
              "      <td>0</td>\n",
              "      <td>0</td>\n",
              "      <td>0.355170</td>\n",
              "      <td>0.373517</td>\n",
              "      <td>0.767981</td>\n",
              "      <td>0.345236</td>\n",
              "      <td>0</td>\n",
              "      <td>0</td>\n",
              "      <td>0</td>\n",
              "      <td>0</td>\n",
              "      <td>0</td>\n",
              "      <td>0</td>\n",
              "      <td>0</td>\n",
              "      <td>0</td>\n",
              "      <td>0</td>\n",
              "      <td>0</td>\n",
              "      <td>0</td>\n",
              "      <td>0</td>\n",
              "      <td>0</td>\n",
              "      <td>0</td>\n",
              "      <td>0</td>\n",
              "      <td>0</td>\n",
              "      <td>0</td>\n",
              "      <td>0</td>\n",
              "      <td>0</td>\n",
              "      <td>0</td>\n",
              "      <td>1</td>\n",
              "      <td>0</td>\n",
              "      <td>1</td>\n",
              "      <td>0</td>\n",
              "    </tr>\n",
              "    <tr>\n",
              "      <th>1</th>\n",
              "      <td>0</td>\n",
              "      <td>0</td>\n",
              "      <td>0</td>\n",
              "      <td>0.379232</td>\n",
              "      <td>0.360541</td>\n",
              "      <td>0.615202</td>\n",
              "      <td>0.565533</td>\n",
              "      <td>1</td>\n",
              "      <td>0</td>\n",
              "      <td>0</td>\n",
              "      <td>0</td>\n",
              "      <td>0</td>\n",
              "      <td>0</td>\n",
              "      <td>0</td>\n",
              "      <td>0</td>\n",
              "      <td>0</td>\n",
              "      <td>0</td>\n",
              "      <td>0</td>\n",
              "      <td>0</td>\n",
              "      <td>0</td>\n",
              "      <td>0</td>\n",
              "      <td>0</td>\n",
              "      <td>0</td>\n",
              "      <td>0</td>\n",
              "      <td>0</td>\n",
              "      <td>0</td>\n",
              "      <td>0</td>\n",
              "      <td>0</td>\n",
              "      <td>0</td>\n",
              "      <td>1</td>\n",
              "      <td>0</td>\n",
              "    </tr>\n",
              "    <tr>\n",
              "      <th>2</th>\n",
              "      <td>0</td>\n",
              "      <td>0</td>\n",
              "      <td>1</td>\n",
              "      <td>0.171000</td>\n",
              "      <td>0.144830</td>\n",
              "      <td>0.254904</td>\n",
              "      <td>0.564958</td>\n",
              "      <td>2</td>\n",
              "      <td>0</td>\n",
              "      <td>0</td>\n",
              "      <td>0</td>\n",
              "      <td>0</td>\n",
              "      <td>0</td>\n",
              "      <td>0</td>\n",
              "      <td>0</td>\n",
              "      <td>0</td>\n",
              "      <td>0</td>\n",
              "      <td>0</td>\n",
              "      <td>0</td>\n",
              "      <td>0</td>\n",
              "      <td>0</td>\n",
              "      <td>0</td>\n",
              "      <td>1</td>\n",
              "      <td>0</td>\n",
              "      <td>0</td>\n",
              "      <td>0</td>\n",
              "      <td>0</td>\n",
              "      <td>0</td>\n",
              "      <td>1</td>\n",
              "      <td>0</td>\n",
              "      <td>0</td>\n",
              "    </tr>\n",
              "    <tr>\n",
              "      <th>3</th>\n",
              "      <td>0</td>\n",
              "      <td>0</td>\n",
              "      <td>1</td>\n",
              "      <td>0.175530</td>\n",
              "      <td>0.174649</td>\n",
              "      <td>0.468123</td>\n",
              "      <td>0.344861</td>\n",
              "      <td>3</td>\n",
              "      <td>0</td>\n",
              "      <td>0</td>\n",
              "      <td>0</td>\n",
              "      <td>0</td>\n",
              "      <td>0</td>\n",
              "      <td>0</td>\n",
              "      <td>0</td>\n",
              "      <td>0</td>\n",
              "      <td>0</td>\n",
              "      <td>0</td>\n",
              "      <td>0</td>\n",
              "      <td>0</td>\n",
              "      <td>0</td>\n",
              "      <td>0</td>\n",
              "      <td>0</td>\n",
              "      <td>1</td>\n",
              "      <td>0</td>\n",
              "      <td>0</td>\n",
              "      <td>0</td>\n",
              "      <td>0</td>\n",
              "      <td>1</td>\n",
              "      <td>0</td>\n",
              "      <td>0</td>\n",
              "    </tr>\n",
              "    <tr>\n",
              "      <th>4</th>\n",
              "      <td>0</td>\n",
              "      <td>0</td>\n",
              "      <td>1</td>\n",
              "      <td>0.209120</td>\n",
              "      <td>0.197158</td>\n",
              "      <td>0.254464</td>\n",
              "      <td>0.411391</td>\n",
              "      <td>4</td>\n",
              "      <td>0</td>\n",
              "      <td>0</td>\n",
              "      <td>0</td>\n",
              "      <td>0</td>\n",
              "      <td>0</td>\n",
              "      <td>0</td>\n",
              "      <td>0</td>\n",
              "      <td>0</td>\n",
              "      <td>0</td>\n",
              "      <td>0</td>\n",
              "      <td>0</td>\n",
              "      <td>0</td>\n",
              "      <td>0</td>\n",
              "      <td>0</td>\n",
              "      <td>0</td>\n",
              "      <td>0</td>\n",
              "      <td>1</td>\n",
              "      <td>0</td>\n",
              "      <td>0</td>\n",
              "      <td>0</td>\n",
              "      <td>1</td>\n",
              "      <td>0</td>\n",
              "      <td>0</td>\n",
              "    </tr>\n",
              "  </tbody>\n",
              "</table>\n",
              "</div>"
            ],
            "text/plain": [
              "   yr  holiday  workingday  ...  weathersit_1  weathersit_2  weathersit_3\n",
              "0   0        0           0  ...             0             1             0\n",
              "1   0        0           0  ...             0             1             0\n",
              "2   0        0           1  ...             1             0             0\n",
              "3   0        0           1  ...             1             0             0\n",
              "4   0        0           1  ...             1             0             0\n",
              "\n",
              "[5 rows x 31 columns]"
            ]
          },
          "metadata": {},
          "execution_count": 39
        }
      ]
    },
    {
      "cell_type": "code",
      "source": [
        "# Checking shape and size for train and test\n",
        "print(X_train.shape)\n",
        "print(X_test.shape)"
      ],
      "metadata": {
        "colab": {
          "base_uri": "https://localhost:8080/"
        },
        "id": "1cD-c-1JO2ck",
        "outputId": "00d9177e-8a0b-4011-a0ad-86354102ee95"
      },
      "execution_count": 40,
      "outputs": [
        {
          "output_type": "stream",
          "name": "stdout",
          "text": [
            "(508, 31)\n",
            "(219, 31)\n"
          ]
        }
      ]
    },
    {
      "cell_type": "code",
      "source": [
        "# Checking shape and size for train and test\n",
        "print(y_train.shape)\n",
        "print(y_test.shape)"
      ],
      "metadata": {
        "colab": {
          "base_uri": "https://localhost:8080/"
        },
        "id": "2CqSOpvXZHUr",
        "outputId": "18dd767c-4a70-4233-c0f2-26de8e3bf60b"
      },
      "execution_count": 41,
      "outputs": [
        {
          "output_type": "stream",
          "name": "stdout",
          "text": [
            "(508,)\n",
            "(219,)\n"
          ]
        }
      ]
    },
    {
      "cell_type": "markdown",
      "source": [
        "**RFE**\n",
        "**Recursive feature elimination: We will be using the LinearRegression function from SciKit Learn for its compatibility with RFE (which is a utility from sklearn)** "
      ],
      "metadata": {
        "id": "2A74-uTqWJyq"
      }
    },
    {
      "cell_type": "code",
      "source": [
        "# Importing RFE and LinearRegression\n",
        "from sklearn.feature_selection import RFE\n",
        "from sklearn.linear_model import LinearRegression"
      ],
      "metadata": {
        "id": "PZ5T2kVuWLxI"
      },
      "execution_count": 42,
      "outputs": []
    },
    {
      "cell_type": "code",
      "source": [
        "\n",
        "lm = LinearRegression()\n",
        "lm.fit(X_train, y_train)\n"
      ],
      "metadata": {
        "colab": {
          "base_uri": "https://localhost:8080/"
        },
        "id": "IW9am_wjWoTD",
        "outputId": "69496ad3-4b62-44dc-b749-2c14ee52205b"
      },
      "execution_count": 43,
      "outputs": [
        {
          "output_type": "execute_result",
          "data": {
            "text/plain": [
              "LinearRegression()"
            ]
          },
          "metadata": {},
          "execution_count": 43
        }
      ]
    },
    {
      "cell_type": "code",
      "source": [
        "#Cut down number of features to 15 using automated approach\n",
        "rfe = RFE(lm, n_features_to_select=15,step=1)\n",
        "rfe=rfe.fit(X_train,y_train)"
      ],
      "metadata": {
        "id": "clySWkYEXEW5"
      },
      "execution_count": 44,
      "outputs": []
    },
    {
      "cell_type": "code",
      "source": [
        "list(zip(X_train.columns,rfe.support_,rfe.ranking_))"
      ],
      "metadata": {
        "colab": {
          "base_uri": "https://localhost:8080/"
        },
        "id": "AbGqrNyfb2H9",
        "outputId": "e98e4ef9-0bcb-4f4d-cf61-afef1e6bf52c"
      },
      "execution_count": 45,
      "outputs": [
        {
          "output_type": "execute_result",
          "data": {
            "text/plain": [
              "[('yr', True, 1),\n",
              " ('holiday', True, 1),\n",
              " ('workingday', True, 1),\n",
              " ('temp', True, 1),\n",
              " ('atemp', False, 6),\n",
              " ('hum', True, 1),\n",
              " ('windspeed', True, 1),\n",
              " ('days_old', False, 17),\n",
              " ('season_2', False, 3),\n",
              " ('season_3', False, 4),\n",
              " ('season_4', True, 1),\n",
              " ('mnth_2', False, 11),\n",
              " ('mnth_3', False, 8),\n",
              " ('mnth_4', False, 14),\n",
              " ('mnth_5', False, 10),\n",
              " ('mnth_6', False, 16),\n",
              " ('mnth_7', False, 7),\n",
              " ('mnth_8', False, 15),\n",
              " ('mnth_9', False, 2),\n",
              " ('mnth_10', False, 5),\n",
              " ('mnth_11', False, 12),\n",
              " ('mnth_12', False, 13),\n",
              " ('weekday_1', True, 1),\n",
              " ('weekday_2', True, 1),\n",
              " ('weekday_3', True, 1),\n",
              " ('weekday_4', True, 1),\n",
              " ('weekday_5', True, 1),\n",
              " ('weekday_6', False, 9),\n",
              " ('weathersit_1', True, 1),\n",
              " ('weathersit_2', True, 1),\n",
              " ('weathersit_3', True, 1)]"
            ]
          },
          "metadata": {},
          "execution_count": 45
        }
      ]
    },
    {
      "cell_type": "code",
      "source": [
        "col = X_train.columns[rfe.support_]\n",
        "col"
      ],
      "metadata": {
        "colab": {
          "base_uri": "https://localhost:8080/"
        },
        "id": "JUQIkO23e5-C",
        "outputId": "7113fb08-34ff-4208-9597-95410609a632"
      },
      "execution_count": 46,
      "outputs": [
        {
          "output_type": "execute_result",
          "data": {
            "text/plain": [
              "Index(['yr', 'holiday', 'workingday', 'temp', 'hum', 'windspeed', 'season_4',\n",
              "       'weekday_1', 'weekday_2', 'weekday_3', 'weekday_4', 'weekday_5',\n",
              "       'weathersit_1', 'weathersit_2', 'weathersit_3'],\n",
              "      dtype='object')"
            ]
          },
          "metadata": {},
          "execution_count": 46
        }
      ]
    },
    {
      "cell_type": "code",
      "source": [
        "# Creating X_test dataframe with RFE selected variables\n",
        "X_train_rfe = X_train[col]"
      ],
      "metadata": {
        "id": "lZg2HPrIfG9s"
      },
      "execution_count": 47,
      "outputs": []
    },
    {
      "cell_type": "markdown",
      "source": [
        "**Building Linear Model using 'STATS MODEL'**"
      ],
      "metadata": {
        "id": "4wvTT7c8fNaD"
      }
    },
    {
      "cell_type": "code",
      "source": [
        "X_train_rfe.columns"
      ],
      "metadata": {
        "colab": {
          "base_uri": "https://localhost:8080/"
        },
        "id": "nFEnAiicjjVn",
        "outputId": "dd0e8c37-9274-405c-c197-bf43ac07ef01"
      },
      "execution_count": 48,
      "outputs": [
        {
          "output_type": "execute_result",
          "data": {
            "text/plain": [
              "Index(['yr', 'holiday', 'workingday', 'temp', 'hum', 'windspeed', 'season_4',\n",
              "       'weekday_1', 'weekday_2', 'weekday_3', 'weekday_4', 'weekday_5',\n",
              "       'weathersit_1', 'weathersit_2', 'weathersit_3'],\n",
              "      dtype='object')"
            ]
          },
          "metadata": {},
          "execution_count": 48
        }
      ]
    },
    {
      "cell_type": "markdown",
      "source": [
        "**Model1** \n",
        "\n",
        "*   VIF check\n",
        "\n",
        "\n"
      ],
      "metadata": {
        "id": "6XxKqcoffUal"
      }
    },
    {
      "cell_type": "code",
      "source": [
        "# Check for the VIF values of the feature variables. \n",
        "from statsmodels.stats.outliers_influence import variance_inflation_factor\n",
        "import statsmodels.api as sm\n"
      ],
      "metadata": {
        "id": "FFiFM2kzfSN3"
      },
      "execution_count": 49,
      "outputs": []
    },
    {
      "cell_type": "code",
      "source": [
        "# Create a dataframe that will contain the names of all the feature variables and their respective VIFs\n",
        "def get_vif(cols):\n",
        "  vif = pd.DataFrame()\n",
        "  X_train_rfe = X_train[cols]\n",
        "  vif['Features'] = X_train_rfe.columns\n",
        "  vif['VIF'] = [variance_inflation_factor(X_train_rfe.values, i) for i in range(X_train_rfe.shape[1])]\n",
        "  vif['VIF'] = round(vif['VIF'], 2)\n",
        "  vif = vif.sort_values(by = \"VIF\", ascending = False)\n",
        "  return vif"
      ],
      "metadata": {
        "id": "OW9Cihz2kY3G"
      },
      "execution_count": 50,
      "outputs": []
    },
    {
      "cell_type": "code",
      "source": [
        "#Function to build a model using statsmodel api - Takes the columns to be selected for model as a parameter\n",
        "def build_model(cols):\n",
        "    X_train_sm = sm.add_constant(X_train[cols])\n",
        "    lm = sm.OLS(y_train, X_train_sm).fit()\n",
        "    print(lm.summary())\n",
        "    return lm"
      ],
      "metadata": {
        "id": "LrTNviskiAXv"
      },
      "execution_count": 51,
      "outputs": []
    },
    {
      "cell_type": "markdown",
      "source": [
        "**Build Model1 with all features selected by RFE**"
      ],
      "metadata": {
        "id": "rqYudczoodor"
      }
    },
    {
      "cell_type": "code",
      "source": [
        "build_model(X_train_rfe.columns)\n",
        "get_vif(X_train_rfe.columns)"
      ],
      "metadata": {
        "colab": {
          "base_uri": "https://localhost:8080/",
          "height": 1000
        },
        "id": "RJ1mCSpAkJGO",
        "outputId": "8fb0c461-3d37-43be-8bcc-6a2c9d44182e"
      },
      "execution_count": 52,
      "outputs": [
        {
          "output_type": "stream",
          "name": "stdout",
          "text": [
            "                            OLS Regression Results                            \n",
            "==============================================================================\n",
            "Dep. Variable:                    cnt   R-squared:                       0.786\n",
            "Model:                            OLS   Adj. R-squared:                  0.780\n",
            "Method:                 Least Squares   F-statistic:                     139.2\n",
            "Date:                Wed, 15 Dec 2021   Prob (F-statistic):          9.36e-156\n",
            "Time:                        07:59:51   Log-Likelihood:                 429.97\n",
            "No. Observations:                 508   AIC:                            -831.9\n",
            "Df Residuals:                     494   BIC:                            -772.7\n",
            "Df Model:                          13                                         \n",
            "Covariance Type:            nonrobust                                         \n",
            "================================================================================\n",
            "                   coef    std err          t      P>|t|      [0.025      0.975]\n",
            "--------------------------------------------------------------------------------\n",
            "const            0.0554      0.025      2.253      0.025       0.007       0.104\n",
            "yr               0.2282      0.010     23.969      0.000       0.209       0.247\n",
            "holiday         -0.0842      0.023     -3.666      0.000      -0.129      -0.039\n",
            "workingday       0.0280      0.009      3.187      0.002       0.011       0.045\n",
            "temp             0.6098      0.022     27.121      0.000       0.566       0.654\n",
            "hum             -0.1201      0.034     -3.546      0.000      -0.187      -0.054\n",
            "windspeed       -0.1028      0.027     -3.850      0.000      -0.155      -0.050\n",
            "season_4         0.1190      0.012     10.302      0.000       0.096       0.142\n",
            "weekday_1       -0.0241      0.011     -2.152      0.032      -0.046      -0.002\n",
            "weekday_2       -0.0202      0.012     -1.663      0.097      -0.044       0.004\n",
            "weekday_3       -0.0116      0.012     -0.931      0.352      -0.036       0.013\n",
            "weekday_4        0.0052      0.012      0.416      0.678      -0.019       0.030\n",
            "weekday_5       -0.0055      0.012     -0.453      0.651      -0.029       0.018\n",
            "weathersit_1     0.1078      0.010     10.898      0.000       0.088       0.127\n",
            "weathersit_2     0.0527      0.012      4.509      0.000       0.030       0.076\n",
            "weathersit_3    -0.1051      0.025     -4.141      0.000      -0.155      -0.055\n",
            "==============================================================================\n",
            "Omnibus:                       50.345   Durbin-Watson:                   1.969\n",
            "Prob(Omnibus):                  0.000   Jarque-Bera (JB):               79.617\n",
            "Skew:                          -0.666   Prob(JB):                     5.15e-18\n",
            "Kurtosis:                       4.410   Cond. No.                     3.30e+16\n",
            "==============================================================================\n",
            "\n",
            "Warnings:\n",
            "[1] Standard Errors assume that the covariance matrix of the errors is correctly specified.\n",
            "[2] The smallest eigenvalue is 1.51e-30. This might indicate that there are\n",
            "strong multicollinearity problems or that the design matrix is singular.\n"
          ]
        },
        {
          "output_type": "execute_result",
          "data": {
            "text/html": [
              "<div>\n",
              "<style scoped>\n",
              "    .dataframe tbody tr th:only-of-type {\n",
              "        vertical-align: middle;\n",
              "    }\n",
              "\n",
              "    .dataframe tbody tr th {\n",
              "        vertical-align: top;\n",
              "    }\n",
              "\n",
              "    .dataframe thead th {\n",
              "        text-align: right;\n",
              "    }\n",
              "</style>\n",
              "<table border=\"1\" class=\"dataframe\">\n",
              "  <thead>\n",
              "    <tr style=\"text-align: right;\">\n",
              "      <th></th>\n",
              "      <th>Features</th>\n",
              "      <th>VIF</th>\n",
              "    </tr>\n",
              "  </thead>\n",
              "  <tbody>\n",
              "    <tr>\n",
              "      <th>1</th>\n",
              "      <td>holiday</td>\n",
              "      <td>inf</td>\n",
              "    </tr>\n",
              "    <tr>\n",
              "      <th>2</th>\n",
              "      <td>workingday</td>\n",
              "      <td>inf</td>\n",
              "    </tr>\n",
              "    <tr>\n",
              "      <th>7</th>\n",
              "      <td>weekday_1</td>\n",
              "      <td>inf</td>\n",
              "    </tr>\n",
              "    <tr>\n",
              "      <th>8</th>\n",
              "      <td>weekday_2</td>\n",
              "      <td>inf</td>\n",
              "    </tr>\n",
              "    <tr>\n",
              "      <th>9</th>\n",
              "      <td>weekday_3</td>\n",
              "      <td>inf</td>\n",
              "    </tr>\n",
              "    <tr>\n",
              "      <th>10</th>\n",
              "      <td>weekday_4</td>\n",
              "      <td>inf</td>\n",
              "    </tr>\n",
              "    <tr>\n",
              "      <th>11</th>\n",
              "      <td>weekday_5</td>\n",
              "      <td>inf</td>\n",
              "    </tr>\n",
              "    <tr>\n",
              "      <th>12</th>\n",
              "      <td>weathersit_1</td>\n",
              "      <td>20.22</td>\n",
              "    </tr>\n",
              "    <tr>\n",
              "      <th>13</th>\n",
              "      <td>weathersit_2</td>\n",
              "      <td>15.67</td>\n",
              "    </tr>\n",
              "    <tr>\n",
              "      <th>14</th>\n",
              "      <td>weathersit_3</td>\n",
              "      <td>3.16</td>\n",
              "    </tr>\n",
              "    <tr>\n",
              "      <th>4</th>\n",
              "      <td>hum</td>\n",
              "      <td>2.02</td>\n",
              "    </tr>\n",
              "    <tr>\n",
              "      <th>3</th>\n",
              "      <td>temp</td>\n",
              "      <td>1.18</td>\n",
              "    </tr>\n",
              "    <tr>\n",
              "      <th>5</th>\n",
              "      <td>windspeed</td>\n",
              "      <td>1.17</td>\n",
              "    </tr>\n",
              "    <tr>\n",
              "      <th>6</th>\n",
              "      <td>season_4</td>\n",
              "      <td>1.13</td>\n",
              "    </tr>\n",
              "    <tr>\n",
              "      <th>0</th>\n",
              "      <td>yr</td>\n",
              "      <td>1.04</td>\n",
              "    </tr>\n",
              "  </tbody>\n",
              "</table>\n",
              "</div>"
            ],
            "text/plain": [
              "        Features    VIF\n",
              "1        holiday    inf\n",
              "2     workingday    inf\n",
              "7      weekday_1    inf\n",
              "8      weekday_2    inf\n",
              "9      weekday_3    inf\n",
              "10     weekday_4    inf\n",
              "11     weekday_5    inf\n",
              "12  weathersit_1  20.22\n",
              "13  weathersit_2  15.67\n",
              "14  weathersit_3   3.16\n",
              "4            hum   2.02\n",
              "3           temp   1.18\n",
              "5      windspeed   1.17\n",
              "6       season_4   1.13\n",
              "0             yr   1.04"
            ]
          },
          "metadata": {},
          "execution_count": 52
        }
      ]
    },
    {
      "cell_type": "markdown",
      "source": [
        "**Model2**"
      ],
      "metadata": {
        "id": "nSAzKf_kp3wY"
      }
    },
    {
      "cell_type": "code",
      "source": [
        "# removing weekday_4  because of its hig p value \n",
        "X_train_new = X_train_rfe.drop([\"weekday_4\"], axis = 1)\n",
        "build_model(X_train_new.columns)\n",
        "get_vif(X_train_new.columns)"
      ],
      "metadata": {
        "id": "IThvAb8kllGu",
        "colab": {
          "base_uri": "https://localhost:8080/",
          "height": 1000
        },
        "outputId": "cd45f659-725b-4719-d36d-6013936d27d2"
      },
      "execution_count": 53,
      "outputs": [
        {
          "output_type": "stream",
          "name": "stdout",
          "text": [
            "                            OLS Regression Results                            \n",
            "==============================================================================\n",
            "Dep. Variable:                    cnt   R-squared:                       0.786\n",
            "Model:                            OLS   Adj. R-squared:                  0.780\n",
            "Method:                 Least Squares   F-statistic:                     139.2\n",
            "Date:                Wed, 15 Dec 2021   Prob (F-statistic):          9.36e-156\n",
            "Time:                        07:59:51   Log-Likelihood:                 429.97\n",
            "No. Observations:                 508   AIC:                            -831.9\n",
            "Df Residuals:                     494   BIC:                            -772.7\n",
            "Df Model:                          13                                         \n",
            "Covariance Type:            nonrobust                                         \n",
            "================================================================================\n",
            "                   coef    std err          t      P>|t|      [0.025      0.975]\n",
            "--------------------------------------------------------------------------------\n",
            "const            0.0554      0.025      2.253      0.025       0.007       0.104\n",
            "yr               0.2282      0.010     23.969      0.000       0.209       0.247\n",
            "holiday         -0.0790      0.030     -2.631      0.009      -0.138      -0.020\n",
            "workingday       0.0332      0.016      2.128      0.034       0.003       0.064\n",
            "temp             0.6098      0.022     27.121      0.000       0.566       0.654\n",
            "hum             -0.1201      0.034     -3.546      0.000      -0.187      -0.054\n",
            "windspeed       -0.1028      0.027     -3.850      0.000      -0.155      -0.050\n",
            "season_4         0.1190      0.012     10.302      0.000       0.096       0.142\n",
            "weekday_1       -0.0293      0.018     -1.632      0.103      -0.065       0.006\n",
            "weekday_2       -0.0254      0.018     -1.426      0.155      -0.060       0.010\n",
            "weekday_3       -0.0168      0.018     -0.929      0.353      -0.052       0.019\n",
            "weekday_5       -0.0107      0.018     -0.600      0.549      -0.046       0.024\n",
            "weathersit_1     0.1078      0.010     10.898      0.000       0.088       0.127\n",
            "weathersit_2     0.0527      0.012      4.509      0.000       0.030       0.076\n",
            "weathersit_3    -0.1051      0.025     -4.141      0.000      -0.155      -0.055\n",
            "==============================================================================\n",
            "Omnibus:                       50.345   Durbin-Watson:                   1.969\n",
            "Prob(Omnibus):                  0.000   Jarque-Bera (JB):               79.617\n",
            "Skew:                          -0.666   Prob(JB):                     5.15e-18\n",
            "Kurtosis:                       4.410   Cond. No.                     6.63e+15\n",
            "==============================================================================\n",
            "\n",
            "Warnings:\n",
            "[1] Standard Errors assume that the covariance matrix of the errors is correctly specified.\n",
            "[2] The smallest eigenvalue is 3.72e-29. This might indicate that there are\n",
            "strong multicollinearity problems or that the design matrix is singular.\n"
          ]
        },
        {
          "output_type": "execute_result",
          "data": {
            "text/html": [
              "<div>\n",
              "<style scoped>\n",
              "    .dataframe tbody tr th:only-of-type {\n",
              "        vertical-align: middle;\n",
              "    }\n",
              "\n",
              "    .dataframe tbody tr th {\n",
              "        vertical-align: top;\n",
              "    }\n",
              "\n",
              "    .dataframe thead th {\n",
              "        text-align: right;\n",
              "    }\n",
              "</style>\n",
              "<table border=\"1\" class=\"dataframe\">\n",
              "  <thead>\n",
              "    <tr style=\"text-align: right;\">\n",
              "      <th></th>\n",
              "      <th>Features</th>\n",
              "      <th>VIF</th>\n",
              "    </tr>\n",
              "  </thead>\n",
              "  <tbody>\n",
              "    <tr>\n",
              "      <th>11</th>\n",
              "      <td>weathersit_1</td>\n",
              "      <td>20.22</td>\n",
              "    </tr>\n",
              "    <tr>\n",
              "      <th>12</th>\n",
              "      <td>weathersit_2</td>\n",
              "      <td>15.67</td>\n",
              "    </tr>\n",
              "    <tr>\n",
              "      <th>13</th>\n",
              "      <td>weathersit_3</td>\n",
              "      <td>3.16</td>\n",
              "    </tr>\n",
              "    <tr>\n",
              "      <th>2</th>\n",
              "      <td>workingday</td>\n",
              "      <td>2.43</td>\n",
              "    </tr>\n",
              "    <tr>\n",
              "      <th>4</th>\n",
              "      <td>hum</td>\n",
              "      <td>2.02</td>\n",
              "    </tr>\n",
              "    <tr>\n",
              "      <th>7</th>\n",
              "      <td>weekday_1</td>\n",
              "      <td>1.90</td>\n",
              "    </tr>\n",
              "    <tr>\n",
              "      <th>8</th>\n",
              "      <td>weekday_2</td>\n",
              "      <td>1.82</td>\n",
              "    </tr>\n",
              "    <tr>\n",
              "      <th>10</th>\n",
              "      <td>weekday_5</td>\n",
              "      <td>1.81</td>\n",
              "    </tr>\n",
              "    <tr>\n",
              "      <th>9</th>\n",
              "      <td>weekday_3</td>\n",
              "      <td>1.80</td>\n",
              "    </tr>\n",
              "    <tr>\n",
              "      <th>1</th>\n",
              "      <td>holiday</td>\n",
              "      <td>1.41</td>\n",
              "    </tr>\n",
              "    <tr>\n",
              "      <th>3</th>\n",
              "      <td>temp</td>\n",
              "      <td>1.18</td>\n",
              "    </tr>\n",
              "    <tr>\n",
              "      <th>5</th>\n",
              "      <td>windspeed</td>\n",
              "      <td>1.17</td>\n",
              "    </tr>\n",
              "    <tr>\n",
              "      <th>6</th>\n",
              "      <td>season_4</td>\n",
              "      <td>1.13</td>\n",
              "    </tr>\n",
              "    <tr>\n",
              "      <th>0</th>\n",
              "      <td>yr</td>\n",
              "      <td>1.04</td>\n",
              "    </tr>\n",
              "  </tbody>\n",
              "</table>\n",
              "</div>"
            ],
            "text/plain": [
              "        Features    VIF\n",
              "11  weathersit_1  20.22\n",
              "12  weathersit_2  15.67\n",
              "13  weathersit_3   3.16\n",
              "2     workingday   2.43\n",
              "4            hum   2.02\n",
              "7      weekday_1   1.90\n",
              "8      weekday_2   1.82\n",
              "10     weekday_5   1.81\n",
              "9      weekday_3   1.80\n",
              "1        holiday   1.41\n",
              "3           temp   1.18\n",
              "5      windspeed   1.17\n",
              "6       season_4   1.13\n",
              "0             yr   1.04"
            ]
          },
          "metadata": {},
          "execution_count": 53
        }
      ]
    },
    {
      "cell_type": "markdown",
      "source": [
        "**Model3**\n"
      ],
      "metadata": {
        "id": "xKiU6U21rHZH"
      }
    },
    {
      "cell_type": "code",
      "source": [
        "# removing weathersit_1  because of its high vif value \n",
        "X_train_new = X_train_new.drop([\"weathersit_1\"], axis = 1)\n",
        "build_model(X_train_new.columns)\n",
        "get_vif(X_train_new.columns)"
      ],
      "metadata": {
        "colab": {
          "base_uri": "https://localhost:8080/",
          "height": 1000
        },
        "id": "NGzABoGTrJXF",
        "outputId": "650bba2e-8fe2-4c28-fef7-358bb8ebc71a"
      },
      "execution_count": 54,
      "outputs": [
        {
          "output_type": "stream",
          "name": "stdout",
          "text": [
            "                            OLS Regression Results                            \n",
            "==============================================================================\n",
            "Dep. Variable:                    cnt   R-squared:                       0.786\n",
            "Model:                            OLS   Adj. R-squared:                  0.780\n",
            "Method:                 Least Squares   F-statistic:                     139.2\n",
            "Date:                Wed, 15 Dec 2021   Prob (F-statistic):          9.36e-156\n",
            "Time:                        07:59:51   Log-Likelihood:                 429.97\n",
            "No. Observations:                 508   AIC:                            -831.9\n",
            "Df Residuals:                     494   BIC:                            -772.7\n",
            "Df Model:                          13                                         \n",
            "Covariance Type:            nonrobust                                         \n",
            "================================================================================\n",
            "                   coef    std err          t      P>|t|      [0.025      0.975]\n",
            "--------------------------------------------------------------------------------\n",
            "const            0.1632      0.026      6.169      0.000       0.111       0.215\n",
            "yr               0.2282      0.010     23.969      0.000       0.209       0.247\n",
            "holiday         -0.0790      0.030     -2.631      0.009      -0.138      -0.020\n",
            "workingday       0.0332      0.016      2.128      0.034       0.003       0.064\n",
            "temp             0.6098      0.022     27.121      0.000       0.566       0.654\n",
            "hum             -0.1201      0.034     -3.546      0.000      -0.187      -0.054\n",
            "windspeed       -0.1028      0.027     -3.850      0.000      -0.155      -0.050\n",
            "season_4         0.1190      0.012     10.302      0.000       0.096       0.142\n",
            "weekday_1       -0.0293      0.018     -1.632      0.103      -0.065       0.006\n",
            "weekday_2       -0.0254      0.018     -1.426      0.155      -0.060       0.010\n",
            "weekday_3       -0.0168      0.018     -0.929      0.353      -0.052       0.019\n",
            "weekday_5       -0.0107      0.018     -0.600      0.549      -0.046       0.024\n",
            "weathersit_2    -0.0551      0.013     -4.326      0.000      -0.080      -0.030\n",
            "weathersit_3    -0.2129      0.032     -6.694      0.000      -0.275      -0.150\n",
            "==============================================================================\n",
            "Omnibus:                       50.345   Durbin-Watson:                   1.969\n",
            "Prob(Omnibus):                  0.000   Jarque-Bera (JB):               79.617\n",
            "Skew:                          -0.666   Prob(JB):                     5.15e-18\n",
            "Kurtosis:                       4.410   Cond. No.                         16.6\n",
            "==============================================================================\n",
            "\n",
            "Warnings:\n",
            "[1] Standard Errors assume that the covariance matrix of the errors is correctly specified.\n"
          ]
        },
        {
          "output_type": "execute_result",
          "data": {
            "text/html": [
              "<div>\n",
              "<style scoped>\n",
              "    .dataframe tbody tr th:only-of-type {\n",
              "        vertical-align: middle;\n",
              "    }\n",
              "\n",
              "    .dataframe tbody tr th {\n",
              "        vertical-align: top;\n",
              "    }\n",
              "\n",
              "    .dataframe thead th {\n",
              "        text-align: right;\n",
              "    }\n",
              "</style>\n",
              "<table border=\"1\" class=\"dataframe\">\n",
              "  <thead>\n",
              "    <tr style=\"text-align: right;\">\n",
              "      <th></th>\n",
              "      <th>Features</th>\n",
              "      <th>VIF</th>\n",
              "    </tr>\n",
              "  </thead>\n",
              "  <tbody>\n",
              "    <tr>\n",
              "      <th>4</th>\n",
              "      <td>hum</td>\n",
              "      <td>10.98</td>\n",
              "    </tr>\n",
              "    <tr>\n",
              "      <th>2</th>\n",
              "      <td>workingday</td>\n",
              "      <td>7.24</td>\n",
              "    </tr>\n",
              "    <tr>\n",
              "      <th>3</th>\n",
              "      <td>temp</td>\n",
              "      <td>6.79</td>\n",
              "    </tr>\n",
              "    <tr>\n",
              "      <th>5</th>\n",
              "      <td>windspeed</td>\n",
              "      <td>3.90</td>\n",
              "    </tr>\n",
              "    <tr>\n",
              "      <th>11</th>\n",
              "      <td>weathersit_2</td>\n",
              "      <td>2.40</td>\n",
              "    </tr>\n",
              "    <tr>\n",
              "      <th>7</th>\n",
              "      <td>weekday_1</td>\n",
              "      <td>2.23</td>\n",
              "    </tr>\n",
              "    <tr>\n",
              "      <th>8</th>\n",
              "      <td>weekday_2</td>\n",
              "      <td>2.12</td>\n",
              "    </tr>\n",
              "    <tr>\n",
              "      <th>10</th>\n",
              "      <td>weekday_5</td>\n",
              "      <td>2.12</td>\n",
              "    </tr>\n",
              "    <tr>\n",
              "      <th>9</th>\n",
              "      <td>weekday_3</td>\n",
              "      <td>2.09</td>\n",
              "    </tr>\n",
              "    <tr>\n",
              "      <th>0</th>\n",
              "      <td>yr</td>\n",
              "      <td>1.97</td>\n",
              "    </tr>\n",
              "    <tr>\n",
              "      <th>6</th>\n",
              "      <td>season_4</td>\n",
              "      <td>1.45</td>\n",
              "    </tr>\n",
              "    <tr>\n",
              "      <th>1</th>\n",
              "      <td>holiday</td>\n",
              "      <td>1.44</td>\n",
              "    </tr>\n",
              "    <tr>\n",
              "      <th>12</th>\n",
              "      <td>weathersit_3</td>\n",
              "      <td>1.34</td>\n",
              "    </tr>\n",
              "  </tbody>\n",
              "</table>\n",
              "</div>"
            ],
            "text/plain": [
              "        Features    VIF\n",
              "4            hum  10.98\n",
              "2     workingday   7.24\n",
              "3           temp   6.79\n",
              "5      windspeed   3.90\n",
              "11  weathersit_2   2.40\n",
              "7      weekday_1   2.23\n",
              "8      weekday_2   2.12\n",
              "10     weekday_5   2.12\n",
              "9      weekday_3   2.09\n",
              "0             yr   1.97\n",
              "6       season_4   1.45\n",
              "1        holiday   1.44\n",
              "12  weathersit_3   1.34"
            ]
          },
          "metadata": {},
          "execution_count": 54
        }
      ]
    },
    {
      "cell_type": "markdown",
      "source": [
        "**Model 4**"
      ],
      "metadata": {
        "id": "xjA4H-KGsovl"
      }
    },
    {
      "cell_type": "code",
      "source": [
        "# removing hum  because of its high vif value \n",
        "X_train_new = X_train_new.drop([\"hum\"], axis = 1)\n",
        "build_model(X_train_new.columns)\n",
        "get_vif(X_train_new.columns)"
      ],
      "metadata": {
        "colab": {
          "base_uri": "https://localhost:8080/",
          "height": 1000
        },
        "id": "F9pHrqyRssJ1",
        "outputId": "4853ba39-1c5d-47f4-d3dc-3c8c4e93f575"
      },
      "execution_count": 55,
      "outputs": [
        {
          "output_type": "stream",
          "name": "stdout",
          "text": [
            "                            OLS Regression Results                            \n",
            "==============================================================================\n",
            "Dep. Variable:                    cnt   R-squared:                       0.780\n",
            "Model:                            OLS   Adj. R-squared:                  0.775\n",
            "Method:                 Least Squares   F-statistic:                     146.4\n",
            "Date:                Wed, 15 Dec 2021   Prob (F-statistic):          3.62e-154\n",
            "Time:                        07:59:52   Log-Likelihood:                 423.58\n",
            "No. Observations:                 508   AIC:                            -821.2\n",
            "Df Residuals:                     495   BIC:                            -766.2\n",
            "Df Model:                          12                                         \n",
            "Covariance Type:            nonrobust                                         \n",
            "================================================================================\n",
            "                   coef    std err          t      P>|t|      [0.025      0.975]\n",
            "--------------------------------------------------------------------------------\n",
            "const            0.1083      0.022      4.990      0.000       0.066       0.151\n",
            "yr               0.2334      0.010     24.540      0.000       0.215       0.252\n",
            "holiday         -0.0798      0.030     -2.627      0.009      -0.139      -0.020\n",
            "workingday       0.0340      0.016      2.154      0.032       0.003       0.065\n",
            "temp             0.5917      0.022     26.710      0.000       0.548       0.635\n",
            "windspeed       -0.0762      0.026     -2.939      0.003      -0.127      -0.025\n",
            "season_4         0.1123      0.012      9.740      0.000       0.090       0.135\n",
            "weekday_1       -0.0318      0.018     -1.751      0.081      -0.067       0.004\n",
            "weekday_2       -0.0273      0.018     -1.512      0.131      -0.063       0.008\n",
            "weekday_3       -0.0178      0.018     -0.977      0.329      -0.054       0.018\n",
            "weekday_5       -0.0074      0.018     -0.409      0.682      -0.043       0.028\n",
            "weathersit_2    -0.0827      0.010     -8.102      0.000      -0.103      -0.063\n",
            "weathersit_3    -0.2681      0.028     -9.550      0.000      -0.323      -0.213\n",
            "==============================================================================\n",
            "Omnibus:                       44.207   Durbin-Watson:                   1.959\n",
            "Prob(Omnibus):                  0.000   Jarque-Bera (JB):               66.227\n",
            "Skew:                          -0.619   Prob(JB):                     4.16e-15\n",
            "Kurtosis:                       4.264   Cond. No.                         12.9\n",
            "==============================================================================\n",
            "\n",
            "Warnings:\n",
            "[1] Standard Errors assume that the covariance matrix of the errors is correctly specified.\n"
          ]
        },
        {
          "output_type": "execute_result",
          "data": {
            "text/html": [
              "<div>\n",
              "<style scoped>\n",
              "    .dataframe tbody tr th:only-of-type {\n",
              "        vertical-align: middle;\n",
              "    }\n",
              "\n",
              "    .dataframe tbody tr th {\n",
              "        vertical-align: top;\n",
              "    }\n",
              "\n",
              "    .dataframe thead th {\n",
              "        text-align: right;\n",
              "    }\n",
              "</style>\n",
              "<table border=\"1\" class=\"dataframe\">\n",
              "  <thead>\n",
              "    <tr style=\"text-align: right;\">\n",
              "      <th></th>\n",
              "      <th>Features</th>\n",
              "      <th>VIF</th>\n",
              "    </tr>\n",
              "  </thead>\n",
              "  <tbody>\n",
              "    <tr>\n",
              "      <th>2</th>\n",
              "      <td>workingday</td>\n",
              "      <td>7.11</td>\n",
              "    </tr>\n",
              "    <tr>\n",
              "      <th>3</th>\n",
              "      <td>temp</td>\n",
              "      <td>4.06</td>\n",
              "    </tr>\n",
              "    <tr>\n",
              "      <th>4</th>\n",
              "      <td>windspeed</td>\n",
              "      <td>3.78</td>\n",
              "    </tr>\n",
              "    <tr>\n",
              "      <th>6</th>\n",
              "      <td>weekday_1</td>\n",
              "      <td>2.23</td>\n",
              "    </tr>\n",
              "    <tr>\n",
              "      <th>7</th>\n",
              "      <td>weekday_2</td>\n",
              "      <td>2.12</td>\n",
              "    </tr>\n",
              "    <tr>\n",
              "      <th>9</th>\n",
              "      <td>weekday_5</td>\n",
              "      <td>2.11</td>\n",
              "    </tr>\n",
              "    <tr>\n",
              "      <th>8</th>\n",
              "      <td>weekday_3</td>\n",
              "      <td>2.09</td>\n",
              "    </tr>\n",
              "    <tr>\n",
              "      <th>0</th>\n",
              "      <td>yr</td>\n",
              "      <td>1.97</td>\n",
              "    </tr>\n",
              "    <tr>\n",
              "      <th>10</th>\n",
              "      <td>weathersit_2</td>\n",
              "      <td>1.51</td>\n",
              "    </tr>\n",
              "    <tr>\n",
              "      <th>1</th>\n",
              "      <td>holiday</td>\n",
              "      <td>1.42</td>\n",
              "    </tr>\n",
              "    <tr>\n",
              "      <th>5</th>\n",
              "      <td>season_4</td>\n",
              "      <td>1.29</td>\n",
              "    </tr>\n",
              "    <tr>\n",
              "      <th>11</th>\n",
              "      <td>weathersit_3</td>\n",
              "      <td>1.11</td>\n",
              "    </tr>\n",
              "  </tbody>\n",
              "</table>\n",
              "</div>"
            ],
            "text/plain": [
              "        Features   VIF\n",
              "2     workingday  7.11\n",
              "3           temp  4.06\n",
              "4      windspeed  3.78\n",
              "6      weekday_1  2.23\n",
              "7      weekday_2  2.12\n",
              "9      weekday_5  2.11\n",
              "8      weekday_3  2.09\n",
              "0             yr  1.97\n",
              "10  weathersit_2  1.51\n",
              "1        holiday  1.42\n",
              "5       season_4  1.29\n",
              "11  weathersit_3  1.11"
            ]
          },
          "metadata": {},
          "execution_count": 55
        }
      ]
    },
    {
      "cell_type": "markdown",
      "source": [
        "**Model 5**"
      ],
      "metadata": {
        "id": "WtlZSWMTuZEA"
      }
    },
    {
      "cell_type": "code",
      "source": [
        "# removing workingday  because of its high vif value \n",
        "X_train_new = X_train_new.drop([\"workingday\"], axis = 1)\n",
        "build_model(X_train_new.columns)\n",
        "get_vif(X_train_new.columns)"
      ],
      "metadata": {
        "colab": {
          "base_uri": "https://localhost:8080/",
          "height": 1000
        },
        "id": "9-uRSoz9ubaH",
        "outputId": "eb37d78e-21f9-46f5-8ce2-400c662a2717"
      },
      "execution_count": 56,
      "outputs": [
        {
          "output_type": "stream",
          "name": "stdout",
          "text": [
            "                            OLS Regression Results                            \n",
            "==============================================================================\n",
            "Dep. Variable:                    cnt   R-squared:                       0.778\n",
            "Model:                            OLS   Adj. R-squared:                  0.773\n",
            "Method:                 Least Squares   F-statistic:                     158.1\n",
            "Date:                Wed, 15 Dec 2021   Prob (F-statistic):          2.79e-154\n",
            "Time:                        07:59:52   Log-Likelihood:                 421.21\n",
            "No. Observations:                 508   AIC:                            -818.4\n",
            "Df Residuals:                     496   BIC:                            -767.7\n",
            "Df Model:                          11                                         \n",
            "Covariance Type:            nonrobust                                         \n",
            "================================================================================\n",
            "                   coef    std err          t      P>|t|      [0.025      0.975]\n",
            "--------------------------------------------------------------------------------\n",
            "const            0.1198      0.021      5.674      0.000       0.078       0.161\n",
            "yr               0.2328      0.010     24.399      0.000       0.214       0.252\n",
            "holiday         -0.1109      0.027     -4.132      0.000      -0.164      -0.058\n",
            "temp             0.5924      0.022     26.646      0.000       0.549       0.636\n",
            "windspeed       -0.0782      0.026     -3.008      0.003      -0.129      -0.027\n",
            "season_4         0.1125      0.012      9.719      0.000       0.090       0.135\n",
            "weekday_1       -0.0089      0.015     -0.604      0.546      -0.038       0.020\n",
            "weekday_2       -0.0040      0.014     -0.274      0.784      -0.032       0.024\n",
            "weekday_3        0.0054      0.015      0.362      0.717      -0.024       0.034\n",
            "weekday_5        0.0158      0.014      1.089      0.277      -0.013       0.044\n",
            "weathersit_2    -0.0829      0.010     -8.088      0.000      -0.103      -0.063\n",
            "weathersit_3    -0.2685      0.028     -9.532      0.000      -0.324      -0.213\n",
            "==============================================================================\n",
            "Omnibus:                       47.842   Durbin-Watson:                   1.967\n",
            "Prob(Omnibus):                  0.000   Jarque-Bera (JB):               71.328\n",
            "Skew:                          -0.662   Prob(JB):                     3.25e-16\n",
            "Kurtosis:                       4.272   Cond. No.                         10.2\n",
            "==============================================================================\n",
            "\n",
            "Warnings:\n",
            "[1] Standard Errors assume that the covariance matrix of the errors is correctly specified.\n"
          ]
        },
        {
          "output_type": "execute_result",
          "data": {
            "text/html": [
              "<div>\n",
              "<style scoped>\n",
              "    .dataframe tbody tr th:only-of-type {\n",
              "        vertical-align: middle;\n",
              "    }\n",
              "\n",
              "    .dataframe tbody tr th {\n",
              "        vertical-align: top;\n",
              "    }\n",
              "\n",
              "    .dataframe thead th {\n",
              "        text-align: right;\n",
              "    }\n",
              "</style>\n",
              "<table border=\"1\" class=\"dataframe\">\n",
              "  <thead>\n",
              "    <tr style=\"text-align: right;\">\n",
              "      <th></th>\n",
              "      <th>Features</th>\n",
              "      <th>VIF</th>\n",
              "    </tr>\n",
              "  </thead>\n",
              "  <tbody>\n",
              "    <tr>\n",
              "      <th>2</th>\n",
              "      <td>temp</td>\n",
              "      <td>3.78</td>\n",
              "    </tr>\n",
              "    <tr>\n",
              "      <th>3</th>\n",
              "      <td>windspeed</td>\n",
              "      <td>3.68</td>\n",
              "    </tr>\n",
              "    <tr>\n",
              "      <th>0</th>\n",
              "      <td>yr</td>\n",
              "      <td>1.97</td>\n",
              "    </tr>\n",
              "    <tr>\n",
              "      <th>9</th>\n",
              "      <td>weathersit_2</td>\n",
              "      <td>1.50</td>\n",
              "    </tr>\n",
              "    <tr>\n",
              "      <th>5</th>\n",
              "      <td>weekday_1</td>\n",
              "      <td>1.45</td>\n",
              "    </tr>\n",
              "    <tr>\n",
              "      <th>6</th>\n",
              "      <td>weekday_2</td>\n",
              "      <td>1.34</td>\n",
              "    </tr>\n",
              "    <tr>\n",
              "      <th>8</th>\n",
              "      <td>weekday_5</td>\n",
              "      <td>1.33</td>\n",
              "    </tr>\n",
              "    <tr>\n",
              "      <th>7</th>\n",
              "      <td>weekday_3</td>\n",
              "      <td>1.32</td>\n",
              "    </tr>\n",
              "    <tr>\n",
              "      <th>4</th>\n",
              "      <td>season_4</td>\n",
              "      <td>1.28</td>\n",
              "    </tr>\n",
              "    <tr>\n",
              "      <th>1</th>\n",
              "      <td>holiday</td>\n",
              "      <td>1.13</td>\n",
              "    </tr>\n",
              "    <tr>\n",
              "      <th>10</th>\n",
              "      <td>weathersit_3</td>\n",
              "      <td>1.11</td>\n",
              "    </tr>\n",
              "  </tbody>\n",
              "</table>\n",
              "</div>"
            ],
            "text/plain": [
              "        Features   VIF\n",
              "2           temp  3.78\n",
              "3      windspeed  3.68\n",
              "0             yr  1.97\n",
              "9   weathersit_2  1.50\n",
              "5      weekday_1  1.45\n",
              "6      weekday_2  1.34\n",
              "8      weekday_5  1.33\n",
              "7      weekday_3  1.32\n",
              "4       season_4  1.28\n",
              "1        holiday  1.13\n",
              "10  weathersit_3  1.11"
            ]
          },
          "metadata": {},
          "execution_count": 56
        }
      ]
    },
    {
      "cell_type": "markdown",
      "source": [
        "**Model 6**"
      ],
      "metadata": {
        "id": "X-FpiK0-uwOZ"
      }
    },
    {
      "cell_type": "code",
      "source": [
        "# removing weekday_2 because of its high p value \n",
        "X_train_new = X_train_new.drop([\"weekday_2\"], axis = 1)\n",
        "build_model(X_train_new.columns)\n",
        "get_vif(X_train_new.columns)"
      ],
      "metadata": {
        "colab": {
          "base_uri": "https://localhost:8080/",
          "height": 953
        },
        "id": "lFZjQHgXuxxC",
        "outputId": "5ed0dbd5-fcbf-4558-fdef-f25bbfa91dea"
      },
      "execution_count": 57,
      "outputs": [
        {
          "output_type": "stream",
          "name": "stdout",
          "text": [
            "                            OLS Regression Results                            \n",
            "==============================================================================\n",
            "Dep. Variable:                    cnt   R-squared:                       0.778\n",
            "Model:                            OLS   Adj. R-squared:                  0.774\n",
            "Method:                 Least Squares   F-statistic:                     174.2\n",
            "Date:                Wed, 15 Dec 2021   Prob (F-statistic):          2.14e-155\n",
            "Time:                        07:59:52   Log-Likelihood:                 421.17\n",
            "No. Observations:                 508   AIC:                            -820.3\n",
            "Df Residuals:                     497   BIC:                            -773.8\n",
            "Df Model:                          10                                         \n",
            "Covariance Type:            nonrobust                                         \n",
            "================================================================================\n",
            "                   coef    std err          t      P>|t|      [0.025      0.975]\n",
            "--------------------------------------------------------------------------------\n",
            "const            0.1190      0.021      5.695      0.000       0.078       0.160\n",
            "yr               0.2328      0.010     24.420      0.000       0.214       0.252\n",
            "holiday         -0.1110      0.027     -4.140      0.000      -0.164      -0.058\n",
            "temp             0.5923      0.022     26.670      0.000       0.549       0.636\n",
            "windspeed       -0.0785      0.026     -3.024      0.003      -0.130      -0.028\n",
            "season_4         0.1125      0.012      9.729      0.000       0.090       0.135\n",
            "weekday_1       -0.0079      0.014     -0.552      0.581      -0.036       0.020\n",
            "weekday_3        0.0064      0.014      0.449      0.654      -0.022       0.034\n",
            "weekday_5        0.0168      0.014      1.201      0.230      -0.011       0.044\n",
            "weathersit_2    -0.0830      0.010     -8.118      0.000      -0.103      -0.063\n",
            "weathersit_3    -0.2690      0.028     -9.582      0.000      -0.324      -0.214\n",
            "==============================================================================\n",
            "Omnibus:                       47.231   Durbin-Watson:                   1.967\n",
            "Prob(Omnibus):                  0.000   Jarque-Bera (JB):               70.402\n",
            "Skew:                          -0.655   Prob(JB):                     5.16e-16\n",
            "Kurtosis:                       4.269   Cond. No.                         10.1\n",
            "==============================================================================\n",
            "\n",
            "Warnings:\n",
            "[1] Standard Errors assume that the covariance matrix of the errors is correctly specified.\n"
          ]
        },
        {
          "output_type": "execute_result",
          "data": {
            "text/html": [
              "<div>\n",
              "<style scoped>\n",
              "    .dataframe tbody tr th:only-of-type {\n",
              "        vertical-align: middle;\n",
              "    }\n",
              "\n",
              "    .dataframe tbody tr th {\n",
              "        vertical-align: top;\n",
              "    }\n",
              "\n",
              "    .dataframe thead th {\n",
              "        text-align: right;\n",
              "    }\n",
              "</style>\n",
              "<table border=\"1\" class=\"dataframe\">\n",
              "  <thead>\n",
              "    <tr style=\"text-align: right;\">\n",
              "      <th></th>\n",
              "      <th>Features</th>\n",
              "      <th>VIF</th>\n",
              "    </tr>\n",
              "  </thead>\n",
              "  <tbody>\n",
              "    <tr>\n",
              "      <th>2</th>\n",
              "      <td>temp</td>\n",
              "      <td>3.68</td>\n",
              "    </tr>\n",
              "    <tr>\n",
              "      <th>3</th>\n",
              "      <td>windspeed</td>\n",
              "      <td>3.57</td>\n",
              "    </tr>\n",
              "    <tr>\n",
              "      <th>0</th>\n",
              "      <td>yr</td>\n",
              "      <td>1.97</td>\n",
              "    </tr>\n",
              "    <tr>\n",
              "      <th>8</th>\n",
              "      <td>weathersit_2</td>\n",
              "      <td>1.49</td>\n",
              "    </tr>\n",
              "    <tr>\n",
              "      <th>5</th>\n",
              "      <td>weekday_1</td>\n",
              "      <td>1.36</td>\n",
              "    </tr>\n",
              "    <tr>\n",
              "      <th>4</th>\n",
              "      <td>season_4</td>\n",
              "      <td>1.27</td>\n",
              "    </tr>\n",
              "    <tr>\n",
              "      <th>7</th>\n",
              "      <td>weekday_5</td>\n",
              "      <td>1.26</td>\n",
              "    </tr>\n",
              "    <tr>\n",
              "      <th>6</th>\n",
              "      <td>weekday_3</td>\n",
              "      <td>1.24</td>\n",
              "    </tr>\n",
              "    <tr>\n",
              "      <th>1</th>\n",
              "      <td>holiday</td>\n",
              "      <td>1.13</td>\n",
              "    </tr>\n",
              "    <tr>\n",
              "      <th>9</th>\n",
              "      <td>weathersit_3</td>\n",
              "      <td>1.11</td>\n",
              "    </tr>\n",
              "  </tbody>\n",
              "</table>\n",
              "</div>"
            ],
            "text/plain": [
              "       Features   VIF\n",
              "2          temp  3.68\n",
              "3     windspeed  3.57\n",
              "0            yr  1.97\n",
              "8  weathersit_2  1.49\n",
              "5     weekday_1  1.36\n",
              "4      season_4  1.27\n",
              "7     weekday_5  1.26\n",
              "6     weekday_3  1.24\n",
              "1       holiday  1.13\n",
              "9  weathersit_3  1.11"
            ]
          },
          "metadata": {},
          "execution_count": 57
        }
      ]
    },
    {
      "cell_type": "markdown",
      "source": [
        "**Model7**"
      ],
      "metadata": {
        "id": "5k-7Lsrfvbu8"
      }
    },
    {
      "cell_type": "code",
      "source": [
        "# removing weekday_3  because of its high vif value \n",
        "X_train_new = X_train_new.drop([\"weekday_3\"], axis = 1)\n",
        "build_model(X_train_new.columns)\n",
        "get_vif(X_train_new.columns)"
      ],
      "metadata": {
        "colab": {
          "base_uri": "https://localhost:8080/",
          "height": 904
        },
        "id": "T2bTWWXEvd9V",
        "outputId": "26c094ca-a712-4709-ce5d-70b3a4c1b734"
      },
      "execution_count": 58,
      "outputs": [
        {
          "output_type": "stream",
          "name": "stdout",
          "text": [
            "                            OLS Regression Results                            \n",
            "==============================================================================\n",
            "Dep. Variable:                    cnt   R-squared:                       0.778\n",
            "Model:                            OLS   Adj. R-squared:                  0.774\n",
            "Method:                 Least Squares   F-statistic:                     193.9\n",
            "Date:                Wed, 15 Dec 2021   Prob (F-statistic):          1.65e-156\n",
            "Time:                        07:59:52   Log-Likelihood:                 421.07\n",
            "No. Observations:                 508   AIC:                            -822.1\n",
            "Df Residuals:                     498   BIC:                            -779.8\n",
            "Df Model:                           9                                         \n",
            "Covariance Type:            nonrobust                                         \n",
            "================================================================================\n",
            "                   coef    std err          t      P>|t|      [0.025      0.975]\n",
            "--------------------------------------------------------------------------------\n",
            "const            0.1204      0.021      5.821      0.000       0.080       0.161\n",
            "yr               0.2327      0.010     24.438      0.000       0.214       0.251\n",
            "holiday         -0.1108      0.027     -4.138      0.000      -0.163      -0.058\n",
            "temp             0.5926      0.022     26.717      0.000       0.549       0.636\n",
            "windspeed       -0.0788      0.026     -3.039      0.003      -0.130      -0.028\n",
            "season_4         0.1124      0.012      9.729      0.000       0.090       0.135\n",
            "weekday_1       -0.0091      0.014     -0.654      0.513      -0.037       0.018\n",
            "weekday_5        0.0156      0.014      1.136      0.256      -0.011       0.043\n",
            "weathersit_2    -0.0832      0.010     -8.141      0.000      -0.103      -0.063\n",
            "weathersit_3    -0.2677      0.028     -9.597      0.000      -0.323      -0.213\n",
            "==============================================================================\n",
            "Omnibus:                       48.487   Durbin-Watson:                   1.966\n",
            "Prob(Omnibus):                  0.000   Jarque-Bera (JB):               72.634\n",
            "Skew:                          -0.667   Prob(JB):                     1.69e-16\n",
            "Kurtosis:                       4.286   Cond. No.                         10.0\n",
            "==============================================================================\n",
            "\n",
            "Warnings:\n",
            "[1] Standard Errors assume that the covariance matrix of the errors is correctly specified.\n"
          ]
        },
        {
          "output_type": "execute_result",
          "data": {
            "text/html": [
              "<div>\n",
              "<style scoped>\n",
              "    .dataframe tbody tr th:only-of-type {\n",
              "        vertical-align: middle;\n",
              "    }\n",
              "\n",
              "    .dataframe tbody tr th {\n",
              "        vertical-align: top;\n",
              "    }\n",
              "\n",
              "    .dataframe thead th {\n",
              "        text-align: right;\n",
              "    }\n",
              "</style>\n",
              "<table border=\"1\" class=\"dataframe\">\n",
              "  <thead>\n",
              "    <tr style=\"text-align: right;\">\n",
              "      <th></th>\n",
              "      <th>Features</th>\n",
              "      <th>VIF</th>\n",
              "    </tr>\n",
              "  </thead>\n",
              "  <tbody>\n",
              "    <tr>\n",
              "      <th>2</th>\n",
              "      <td>temp</td>\n",
              "      <td>3.54</td>\n",
              "    </tr>\n",
              "    <tr>\n",
              "      <th>3</th>\n",
              "      <td>windspeed</td>\n",
              "      <td>3.54</td>\n",
              "    </tr>\n",
              "    <tr>\n",
              "      <th>0</th>\n",
              "      <td>yr</td>\n",
              "      <td>1.97</td>\n",
              "    </tr>\n",
              "    <tr>\n",
              "      <th>7</th>\n",
              "      <td>weathersit_2</td>\n",
              "      <td>1.49</td>\n",
              "    </tr>\n",
              "    <tr>\n",
              "      <th>5</th>\n",
              "      <td>weekday_1</td>\n",
              "      <td>1.32</td>\n",
              "    </tr>\n",
              "    <tr>\n",
              "      <th>4</th>\n",
              "      <td>season_4</td>\n",
              "      <td>1.27</td>\n",
              "    </tr>\n",
              "    <tr>\n",
              "      <th>6</th>\n",
              "      <td>weekday_5</td>\n",
              "      <td>1.21</td>\n",
              "    </tr>\n",
              "    <tr>\n",
              "      <th>1</th>\n",
              "      <td>holiday</td>\n",
              "      <td>1.13</td>\n",
              "    </tr>\n",
              "    <tr>\n",
              "      <th>8</th>\n",
              "      <td>weathersit_3</td>\n",
              "      <td>1.09</td>\n",
              "    </tr>\n",
              "  </tbody>\n",
              "</table>\n",
              "</div>"
            ],
            "text/plain": [
              "       Features   VIF\n",
              "2          temp  3.54\n",
              "3     windspeed  3.54\n",
              "0            yr  1.97\n",
              "7  weathersit_2  1.49\n",
              "5     weekday_1  1.32\n",
              "4      season_4  1.27\n",
              "6     weekday_5  1.21\n",
              "1       holiday  1.13\n",
              "8  weathersit_3  1.09"
            ]
          },
          "metadata": {},
          "execution_count": 58
        }
      ]
    },
    {
      "cell_type": "markdown",
      "source": [
        "**Model8**"
      ],
      "metadata": {
        "id": "XVlcA7A1yO2e"
      }
    },
    {
      "cell_type": "code",
      "source": [
        "# removing weekday_3  because of its high vif value \n",
        "X_train_new = X_train_new.drop([\"weekday_1\"], axis = 1)\n",
        "build_model(X_train_new.columns)\n",
        "get_vif(X_train_new.columns)"
      ],
      "metadata": {
        "colab": {
          "base_uri": "https://localhost:8080/",
          "height": 856
        },
        "id": "q7-jS4U5yQXY",
        "outputId": "fa7c62ed-2d57-4ccb-a6c2-6ca29df3d2bd"
      },
      "execution_count": 59,
      "outputs": [
        {
          "output_type": "stream",
          "name": "stdout",
          "text": [
            "                            OLS Regression Results                            \n",
            "==============================================================================\n",
            "Dep. Variable:                    cnt   R-squared:                       0.778\n",
            "Model:                            OLS   Adj. R-squared:                  0.774\n",
            "Method:                 Least Squares   F-statistic:                     218.3\n",
            "Date:                Wed, 15 Dec 2021   Prob (F-statistic):          1.34e-157\n",
            "Time:                        07:59:52   Log-Likelihood:                 420.85\n",
            "No. Observations:                 508   AIC:                            -823.7\n",
            "Df Residuals:                     499   BIC:                            -785.6\n",
            "Df Model:                           8                                         \n",
            "Covariance Type:            nonrobust                                         \n",
            "================================================================================\n",
            "                   coef    std err          t      P>|t|      [0.025      0.975]\n",
            "--------------------------------------------------------------------------------\n",
            "const            0.1195      0.021      5.794      0.000       0.079       0.160\n",
            "yr               0.2325      0.010     24.444      0.000       0.214       0.251\n",
            "holiday         -0.1157      0.026     -4.501      0.000      -0.166      -0.065\n",
            "temp             0.5921      0.022     26.725      0.000       0.549       0.636\n",
            "windspeed       -0.0791      0.026     -3.052      0.002      -0.130      -0.028\n",
            "season_4         0.1124      0.012      9.736      0.000       0.090       0.135\n",
            "weekday_5        0.0172      0.013      1.273      0.203      -0.009       0.044\n",
            "weathersit_2    -0.0834      0.010     -8.174      0.000      -0.103      -0.063\n",
            "weathersit_3    -0.2675      0.028     -9.596      0.000      -0.322      -0.213\n",
            "==============================================================================\n",
            "Omnibus:                       47.953   Durbin-Watson:                   1.964\n",
            "Prob(Omnibus):                  0.000   Jarque-Bera (JB):               72.299\n",
            "Skew:                          -0.658   Prob(JB):                     2.00e-16\n",
            "Kurtosis:                       4.297   Cond. No.                         9.96\n",
            "==============================================================================\n",
            "\n",
            "Warnings:\n",
            "[1] Standard Errors assume that the covariance matrix of the errors is correctly specified.\n"
          ]
        },
        {
          "output_type": "execute_result",
          "data": {
            "text/html": [
              "<div>\n",
              "<style scoped>\n",
              "    .dataframe tbody tr th:only-of-type {\n",
              "        vertical-align: middle;\n",
              "    }\n",
              "\n",
              "    .dataframe tbody tr th {\n",
              "        vertical-align: top;\n",
              "    }\n",
              "\n",
              "    .dataframe thead th {\n",
              "        text-align: right;\n",
              "    }\n",
              "</style>\n",
              "<table border=\"1\" class=\"dataframe\">\n",
              "  <thead>\n",
              "    <tr style=\"text-align: right;\">\n",
              "      <th></th>\n",
              "      <th>Features</th>\n",
              "      <th>VIF</th>\n",
              "    </tr>\n",
              "  </thead>\n",
              "  <tbody>\n",
              "    <tr>\n",
              "      <th>3</th>\n",
              "      <td>windspeed</td>\n",
              "      <td>3.52</td>\n",
              "    </tr>\n",
              "    <tr>\n",
              "      <th>2</th>\n",
              "      <td>temp</td>\n",
              "      <td>3.49</td>\n",
              "    </tr>\n",
              "    <tr>\n",
              "      <th>0</th>\n",
              "      <td>yr</td>\n",
              "      <td>1.96</td>\n",
              "    </tr>\n",
              "    <tr>\n",
              "      <th>6</th>\n",
              "      <td>weathersit_2</td>\n",
              "      <td>1.49</td>\n",
              "    </tr>\n",
              "    <tr>\n",
              "      <th>4</th>\n",
              "      <td>season_4</td>\n",
              "      <td>1.27</td>\n",
              "    </tr>\n",
              "    <tr>\n",
              "      <th>5</th>\n",
              "      <td>weekday_5</td>\n",
              "      <td>1.18</td>\n",
              "    </tr>\n",
              "    <tr>\n",
              "      <th>7</th>\n",
              "      <td>weathersit_3</td>\n",
              "      <td>1.09</td>\n",
              "    </tr>\n",
              "    <tr>\n",
              "      <th>1</th>\n",
              "      <td>holiday</td>\n",
              "      <td>1.04</td>\n",
              "    </tr>\n",
              "  </tbody>\n",
              "</table>\n",
              "</div>"
            ],
            "text/plain": [
              "       Features   VIF\n",
              "3     windspeed  3.52\n",
              "2          temp  3.49\n",
              "0            yr  1.96\n",
              "6  weathersit_2  1.49\n",
              "4      season_4  1.27\n",
              "5     weekday_5  1.18\n",
              "7  weathersit_3  1.09\n",
              "1       holiday  1.04"
            ]
          },
          "metadata": {},
          "execution_count": 59
        }
      ]
    },
    {
      "cell_type": "markdown",
      "source": [
        "**Model 9**"
      ],
      "metadata": {
        "id": "gTAiiB-gyfmc"
      }
    },
    {
      "cell_type": "code",
      "source": [
        "# removing weekday_5  because of its high vif value \n",
        "X_train_new = X_train_new.drop([\"weekday_5\"], axis = 1)\n",
        "build_model(X_train_new.columns)\n",
        "get_vif(X_train_new.columns)"
      ],
      "metadata": {
        "colab": {
          "base_uri": "https://localhost:8080/",
          "height": 807
        },
        "id": "QvdlaCN8yjFu",
        "outputId": "bc0f1bb6-2a57-4f04-e86b-2fd5cdeb393b"
      },
      "execution_count": 60,
      "outputs": [
        {
          "output_type": "stream",
          "name": "stdout",
          "text": [
            "                            OLS Regression Results                            \n",
            "==============================================================================\n",
            "Dep. Variable:                    cnt   R-squared:                       0.777\n",
            "Model:                            OLS   Adj. R-squared:                  0.774\n",
            "Method:                 Least Squares   F-statistic:                     248.9\n",
            "Date:                Wed, 15 Dec 2021   Prob (F-statistic):          1.83e-158\n",
            "Time:                        07:59:52   Log-Likelihood:                 420.03\n",
            "No. Observations:                 508   AIC:                            -824.1\n",
            "Df Residuals:                     500   BIC:                            -790.2\n",
            "Df Model:                           7                                         \n",
            "Covariance Type:            nonrobust                                         \n",
            "================================================================================\n",
            "                   coef    std err          t      P>|t|      [0.025      0.975]\n",
            "--------------------------------------------------------------------------------\n",
            "const            0.1213      0.021      5.894      0.000       0.081       0.162\n",
            "yr               0.2320      0.010     24.397      0.000       0.213       0.251\n",
            "holiday         -0.1163      0.026     -4.523      0.000      -0.167      -0.066\n",
            "temp             0.5930      0.022     26.761      0.000       0.549       0.637\n",
            "windspeed       -0.0785      0.026     -3.029      0.003      -0.129      -0.028\n",
            "season_4         0.1130      0.012      9.788      0.000       0.090       0.136\n",
            "weathersit_2    -0.0829      0.010     -8.126      0.000      -0.103      -0.063\n",
            "weathersit_3    -0.2702      0.028     -9.715      0.000      -0.325      -0.216\n",
            "==============================================================================\n",
            "Omnibus:                       46.723   Durbin-Watson:                   1.955\n",
            "Prob(Omnibus):                  0.000   Jarque-Bera (JB):               69.626\n",
            "Skew:                          -0.649   Prob(JB):                     7.60e-16\n",
            "Kurtosis:                       4.266   Cond. No.                         9.90\n",
            "==============================================================================\n",
            "\n",
            "Warnings:\n",
            "[1] Standard Errors assume that the covariance matrix of the errors is correctly specified.\n"
          ]
        },
        {
          "output_type": "execute_result",
          "data": {
            "text/html": [
              "<div>\n",
              "<style scoped>\n",
              "    .dataframe tbody tr th:only-of-type {\n",
              "        vertical-align: middle;\n",
              "    }\n",
              "\n",
              "    .dataframe tbody tr th {\n",
              "        vertical-align: top;\n",
              "    }\n",
              "\n",
              "    .dataframe thead th {\n",
              "        text-align: right;\n",
              "    }\n",
              "</style>\n",
              "<table border=\"1\" class=\"dataframe\">\n",
              "  <thead>\n",
              "    <tr style=\"text-align: right;\">\n",
              "      <th></th>\n",
              "      <th>Features</th>\n",
              "      <th>VIF</th>\n",
              "    </tr>\n",
              "  </thead>\n",
              "  <tbody>\n",
              "    <tr>\n",
              "      <th>3</th>\n",
              "      <td>windspeed</td>\n",
              "      <td>3.49</td>\n",
              "    </tr>\n",
              "    <tr>\n",
              "      <th>2</th>\n",
              "      <td>temp</td>\n",
              "      <td>3.44</td>\n",
              "    </tr>\n",
              "    <tr>\n",
              "      <th>0</th>\n",
              "      <td>yr</td>\n",
              "      <td>1.96</td>\n",
              "    </tr>\n",
              "    <tr>\n",
              "      <th>5</th>\n",
              "      <td>weathersit_2</td>\n",
              "      <td>1.49</td>\n",
              "    </tr>\n",
              "    <tr>\n",
              "      <th>4</th>\n",
              "      <td>season_4</td>\n",
              "      <td>1.27</td>\n",
              "    </tr>\n",
              "    <tr>\n",
              "      <th>6</th>\n",
              "      <td>weathersit_3</td>\n",
              "      <td>1.09</td>\n",
              "    </tr>\n",
              "    <tr>\n",
              "      <th>1</th>\n",
              "      <td>holiday</td>\n",
              "      <td>1.04</td>\n",
              "    </tr>\n",
              "  </tbody>\n",
              "</table>\n",
              "</div>"
            ],
            "text/plain": [
              "       Features   VIF\n",
              "3     windspeed  3.49\n",
              "2          temp  3.44\n",
              "0            yr  1.96\n",
              "5  weathersit_2  1.49\n",
              "4      season_4  1.27\n",
              "6  weathersit_3  1.09\n",
              "1       holiday  1.04"
            ]
          },
          "metadata": {},
          "execution_count": 60
        }
      ]
    },
    {
      "cell_type": "markdown",
      "source": [
        "**Model 10**"
      ],
      "metadata": {
        "id": "TToUJrr4zcjx"
      }
    },
    {
      "cell_type": "code",
      "source": [
        "#from the above parameters if we check seasons as it has 4 values and encoded to  categorical data ,so checking the adjustedr2,p,vif values by including one more season\n",
        "X_train_new['season_2']=X_train['season_2']\n"
      ],
      "metadata": {
        "id": "PM2Q7f_NzeF7"
      },
      "execution_count": 61,
      "outputs": []
    },
    {
      "cell_type": "code",
      "source": [
        "build_model(X_train_new.columns)\n",
        "get_vif(X_train_new.columns)"
      ],
      "metadata": {
        "colab": {
          "base_uri": "https://localhost:8080/",
          "height": 856
        },
        "id": "Qg-d6rrY1iQe",
        "outputId": "b4c1b5cd-42b7-4731-c95f-c1ee9c6ba7ef"
      },
      "execution_count": 62,
      "outputs": [
        {
          "output_type": "stream",
          "name": "stdout",
          "text": [
            "                            OLS Regression Results                            \n",
            "==============================================================================\n",
            "Dep. Variable:                    cnt   R-squared:                       0.797\n",
            "Model:                            OLS   Adj. R-squared:                  0.794\n",
            "Method:                 Least Squares   F-statistic:                     245.0\n",
            "Date:                Wed, 15 Dec 2021   Prob (F-statistic):          2.03e-167\n",
            "Time:                        07:59:52   Log-Likelihood:                 443.94\n",
            "No. Observations:                 508   AIC:                            -869.9\n",
            "Df Residuals:                     499   BIC:                            -831.8\n",
            "Df Model:                           8                                         \n",
            "Covariance Type:            nonrobust                                         \n",
            "================================================================================\n",
            "                   coef    std err          t      P>|t|      [0.025      0.975]\n",
            "--------------------------------------------------------------------------------\n",
            "const            0.1177      0.020      5.986      0.000       0.079       0.156\n",
            "yr               0.2307      0.009     25.399      0.000       0.213       0.249\n",
            "holiday         -0.1111      0.025     -4.521      0.000      -0.159      -0.063\n",
            "temp             0.5713      0.021     26.718      0.000       0.529       0.613\n",
            "windspeed       -0.1004      0.025     -4.024      0.000      -0.149      -0.051\n",
            "season_4         0.1366      0.012     11.854      0.000       0.114       0.159\n",
            "weathersit_2    -0.0862      0.010     -8.835      0.000      -0.105      -0.067\n",
            "weathersit_3    -0.2705      0.027    -10.184      0.000      -0.323      -0.218\n",
            "season_2         0.0779      0.011      7.019      0.000       0.056       0.100\n",
            "==============================================================================\n",
            "Omnibus:                       48.810   Durbin-Watson:                   1.951\n",
            "Prob(Omnibus):                  0.000   Jarque-Bera (JB):               85.751\n",
            "Skew:                          -0.610   Prob(JB):                     2.40e-19\n",
            "Kurtosis:                       4.600   Cond. No.                         10.1\n",
            "==============================================================================\n",
            "\n",
            "Warnings:\n",
            "[1] Standard Errors assume that the covariance matrix of the errors is correctly specified.\n"
          ]
        },
        {
          "output_type": "execute_result",
          "data": {
            "text/html": [
              "<div>\n",
              "<style scoped>\n",
              "    .dataframe tbody tr th:only-of-type {\n",
              "        vertical-align: middle;\n",
              "    }\n",
              "\n",
              "    .dataframe tbody tr th {\n",
              "        vertical-align: top;\n",
              "    }\n",
              "\n",
              "    .dataframe thead th {\n",
              "        text-align: right;\n",
              "    }\n",
              "</style>\n",
              "<table border=\"1\" class=\"dataframe\">\n",
              "  <thead>\n",
              "    <tr style=\"text-align: right;\">\n",
              "      <th></th>\n",
              "      <th>Features</th>\n",
              "      <th>VIF</th>\n",
              "    </tr>\n",
              "  </thead>\n",
              "  <tbody>\n",
              "    <tr>\n",
              "      <th>2</th>\n",
              "      <td>temp</td>\n",
              "      <td>3.65</td>\n",
              "    </tr>\n",
              "    <tr>\n",
              "      <th>3</th>\n",
              "      <td>windspeed</td>\n",
              "      <td>3.62</td>\n",
              "    </tr>\n",
              "    <tr>\n",
              "      <th>0</th>\n",
              "      <td>yr</td>\n",
              "      <td>1.96</td>\n",
              "    </tr>\n",
              "    <tr>\n",
              "      <th>7</th>\n",
              "      <td>season_2</td>\n",
              "      <td>1.59</td>\n",
              "    </tr>\n",
              "    <tr>\n",
              "      <th>5</th>\n",
              "      <td>weathersit_2</td>\n",
              "      <td>1.49</td>\n",
              "    </tr>\n",
              "    <tr>\n",
              "      <th>4</th>\n",
              "      <td>season_4</td>\n",
              "      <td>1.39</td>\n",
              "    </tr>\n",
              "    <tr>\n",
              "      <th>6</th>\n",
              "      <td>weathersit_3</td>\n",
              "      <td>1.09</td>\n",
              "    </tr>\n",
              "    <tr>\n",
              "      <th>1</th>\n",
              "      <td>holiday</td>\n",
              "      <td>1.04</td>\n",
              "    </tr>\n",
              "  </tbody>\n",
              "</table>\n",
              "</div>"
            ],
            "text/plain": [
              "       Features   VIF\n",
              "2          temp  3.65\n",
              "3     windspeed  3.62\n",
              "0            yr  1.96\n",
              "7      season_2  1.59\n",
              "5  weathersit_2  1.49\n",
              "4      season_4  1.39\n",
              "6  weathersit_3  1.09\n",
              "1       holiday  1.04"
            ]
          },
          "metadata": {},
          "execution_count": 62
        }
      ]
    },
    {
      "cell_type": "markdown",
      "source": [
        "**Model 11**\n",
        "\n",
        "*   Adding month column sept to check the r2,pvalue and vif as the sept has the highest cnt \n",
        "\n"
      ],
      "metadata": {
        "id": "pvU0YDwq-J8F"
      }
    },
    {
      "cell_type": "code",
      "source": [
        "X_train_new['mnth_9']=X_train['season_2']"
      ],
      "metadata": {
        "id": "zrUowDwh-XiX"
      },
      "execution_count": 63,
      "outputs": []
    },
    {
      "cell_type": "code",
      "source": [
        "build_model(X_train_new.columns)\n",
        "get_vif(X_train_new.columns)"
      ],
      "metadata": {
        "colab": {
          "base_uri": "https://localhost:8080/",
          "height": 904
        },
        "id": "zTvO2cVs-xdE",
        "outputId": "5edc6ee9-e83c-42c6-ff8a-40d44bd575f3"
      },
      "execution_count": 64,
      "outputs": [
        {
          "output_type": "stream",
          "name": "stdout",
          "text": [
            "                            OLS Regression Results                            \n",
            "==============================================================================\n",
            "Dep. Variable:                    cnt   R-squared:                       0.814\n",
            "Model:                            OLS   Adj. R-squared:                  0.811\n",
            "Method:                 Least Squares   F-statistic:                     242.2\n",
            "Date:                Wed, 15 Dec 2021   Prob (F-statistic):          1.30e-175\n",
            "Time:                        07:59:52   Log-Likelihood:                 466.10\n",
            "No. Observations:                 508   AIC:                            -912.2\n",
            "Df Residuals:                     498   BIC:                            -869.9\n",
            "Df Model:                           9                                         \n",
            "Covariance Type:            nonrobust                                         \n",
            "================================================================================\n",
            "                   coef    std err          t      P>|t|      [0.025      0.975]\n",
            "--------------------------------------------------------------------------------\n",
            "const            0.1233      0.019      6.536      0.000       0.086       0.160\n",
            "yr               0.2297      0.009     26.392      0.000       0.213       0.247\n",
            "holiday         -0.1153      0.024     -4.894      0.000      -0.162      -0.069\n",
            "temp             0.5373      0.021     25.459      0.000       0.496       0.579\n",
            "windspeed       -0.0981      0.024     -4.101      0.000      -0.145      -0.051\n",
            "season_4         0.1400      0.011     12.661      0.000       0.118       0.162\n",
            "weathersit_2    -0.0922      0.009     -9.823      0.000      -0.111      -0.074\n",
            "weathersit_3    -0.2788      0.025    -10.941      0.000      -0.329      -0.229\n",
            "season_2         0.0952      0.011      8.702      0.000       0.074       0.117\n",
            "mnth_9           0.1075      0.016      6.737      0.000       0.076       0.139\n",
            "==============================================================================\n",
            "Omnibus:                       63.392   Durbin-Watson:                   2.013\n",
            "Prob(Omnibus):                  0.000   Jarque-Bera (JB):              102.892\n",
            "Skew:                          -0.796   Prob(JB):                     4.54e-23\n",
            "Kurtosis:                       4.526   Cond. No.                         10.2\n",
            "==============================================================================\n",
            "\n",
            "Warnings:\n",
            "[1] Standard Errors assume that the covariance matrix of the errors is correctly specified.\n"
          ]
        },
        {
          "output_type": "execute_result",
          "data": {
            "text/html": [
              "<div>\n",
              "<style scoped>\n",
              "    .dataframe tbody tr th:only-of-type {\n",
              "        vertical-align: middle;\n",
              "    }\n",
              "\n",
              "    .dataframe tbody tr th {\n",
              "        vertical-align: top;\n",
              "    }\n",
              "\n",
              "    .dataframe thead th {\n",
              "        text-align: right;\n",
              "    }\n",
              "</style>\n",
              "<table border=\"1\" class=\"dataframe\">\n",
              "  <thead>\n",
              "    <tr style=\"text-align: right;\">\n",
              "      <th></th>\n",
              "      <th>Features</th>\n",
              "      <th>VIF</th>\n",
              "    </tr>\n",
              "  </thead>\n",
              "  <tbody>\n",
              "    <tr>\n",
              "      <th>2</th>\n",
              "      <td>temp</td>\n",
              "      <td>4.01</td>\n",
              "    </tr>\n",
              "    <tr>\n",
              "      <th>3</th>\n",
              "      <td>windspeed</td>\n",
              "      <td>3.64</td>\n",
              "    </tr>\n",
              "    <tr>\n",
              "      <th>0</th>\n",
              "      <td>yr</td>\n",
              "      <td>1.96</td>\n",
              "    </tr>\n",
              "    <tr>\n",
              "      <th>7</th>\n",
              "      <td>season_2</td>\n",
              "      <td>1.68</td>\n",
              "    </tr>\n",
              "    <tr>\n",
              "      <th>5</th>\n",
              "      <td>weathersit_2</td>\n",
              "      <td>1.50</td>\n",
              "    </tr>\n",
              "    <tr>\n",
              "      <th>4</th>\n",
              "      <td>season_4</td>\n",
              "      <td>1.40</td>\n",
              "    </tr>\n",
              "    <tr>\n",
              "      <th>8</th>\n",
              "      <td>mnth_9</td>\n",
              "      <td>1.23</td>\n",
              "    </tr>\n",
              "    <tr>\n",
              "      <th>6</th>\n",
              "      <td>weathersit_3</td>\n",
              "      <td>1.09</td>\n",
              "    </tr>\n",
              "    <tr>\n",
              "      <th>1</th>\n",
              "      <td>holiday</td>\n",
              "      <td>1.04</td>\n",
              "    </tr>\n",
              "  </tbody>\n",
              "</table>\n",
              "</div>"
            ],
            "text/plain": [
              "       Features   VIF\n",
              "2          temp  4.01\n",
              "3     windspeed  3.64\n",
              "0            yr  1.96\n",
              "7      season_2  1.68\n",
              "5  weathersit_2  1.50\n",
              "4      season_4  1.40\n",
              "8        mnth_9  1.23\n",
              "6  weathersit_3  1.09\n",
              "1       holiday  1.04"
            ]
          },
          "metadata": {},
          "execution_count": 64
        }
      ]
    },
    {
      "cell_type": "markdown",
      "source": [
        "This model looks good, as there seems to be VERY LOW Multicollinearity between the predictors and the p-values for all the predictors seems to be significant. For now, we will consider this as our final model (unless the Test data metrics are not significantly close to this number)."
      ],
      "metadata": {
        "id": "s0DNQ0X-_JAP"
      }
    },
    {
      "cell_type": "code",
      "source": [
        "lr_finalmodel=build_model(X_train_new.columns)"
      ],
      "metadata": {
        "colab": {
          "base_uri": "https://localhost:8080/"
        },
        "id": "54x2fSAH_Vp8",
        "outputId": "f0b0e57f-1160-4872-862e-3162c5f9c604"
      },
      "execution_count": 65,
      "outputs": [
        {
          "output_type": "stream",
          "name": "stdout",
          "text": [
            "                            OLS Regression Results                            \n",
            "==============================================================================\n",
            "Dep. Variable:                    cnt   R-squared:                       0.814\n",
            "Model:                            OLS   Adj. R-squared:                  0.811\n",
            "Method:                 Least Squares   F-statistic:                     242.2\n",
            "Date:                Wed, 15 Dec 2021   Prob (F-statistic):          1.30e-175\n",
            "Time:                        07:59:52   Log-Likelihood:                 466.10\n",
            "No. Observations:                 508   AIC:                            -912.2\n",
            "Df Residuals:                     498   BIC:                            -869.9\n",
            "Df Model:                           9                                         \n",
            "Covariance Type:            nonrobust                                         \n",
            "================================================================================\n",
            "                   coef    std err          t      P>|t|      [0.025      0.975]\n",
            "--------------------------------------------------------------------------------\n",
            "const            0.1233      0.019      6.536      0.000       0.086       0.160\n",
            "yr               0.2297      0.009     26.392      0.000       0.213       0.247\n",
            "holiday         -0.1153      0.024     -4.894      0.000      -0.162      -0.069\n",
            "temp             0.5373      0.021     25.459      0.000       0.496       0.579\n",
            "windspeed       -0.0981      0.024     -4.101      0.000      -0.145      -0.051\n",
            "season_4         0.1400      0.011     12.661      0.000       0.118       0.162\n",
            "weathersit_2    -0.0922      0.009     -9.823      0.000      -0.111      -0.074\n",
            "weathersit_3    -0.2788      0.025    -10.941      0.000      -0.329      -0.229\n",
            "season_2         0.0952      0.011      8.702      0.000       0.074       0.117\n",
            "mnth_9           0.1075      0.016      6.737      0.000       0.076       0.139\n",
            "==============================================================================\n",
            "Omnibus:                       63.392   Durbin-Watson:                   2.013\n",
            "Prob(Omnibus):                  0.000   Jarque-Bera (JB):              102.892\n",
            "Skew:                          -0.796   Prob(JB):                     4.54e-23\n",
            "Kurtosis:                       4.526   Cond. No.                         10.2\n",
            "==============================================================================\n",
            "\n",
            "Warnings:\n",
            "[1] Standard Errors assume that the covariance matrix of the errors is correctly specified.\n"
          ]
        }
      ]
    },
    {
      "cell_type": "code",
      "source": [
        "print(lr_finalmodel.summary())"
      ],
      "metadata": {
        "colab": {
          "base_uri": "https://localhost:8080/"
        },
        "id": "FL0q6gMu4olc",
        "outputId": "62fcc410-8700-4a47-c867-43bf63e304ae"
      },
      "execution_count": 66,
      "outputs": [
        {
          "output_type": "stream",
          "name": "stdout",
          "text": [
            "                            OLS Regression Results                            \n",
            "==============================================================================\n",
            "Dep. Variable:                    cnt   R-squared:                       0.814\n",
            "Model:                            OLS   Adj. R-squared:                  0.811\n",
            "Method:                 Least Squares   F-statistic:                     242.2\n",
            "Date:                Wed, 15 Dec 2021   Prob (F-statistic):          1.30e-175\n",
            "Time:                        07:59:52   Log-Likelihood:                 466.10\n",
            "No. Observations:                 508   AIC:                            -912.2\n",
            "Df Residuals:                     498   BIC:                            -869.9\n",
            "Df Model:                           9                                         \n",
            "Covariance Type:            nonrobust                                         \n",
            "================================================================================\n",
            "                   coef    std err          t      P>|t|      [0.025      0.975]\n",
            "--------------------------------------------------------------------------------\n",
            "const            0.1233      0.019      6.536      0.000       0.086       0.160\n",
            "yr               0.2297      0.009     26.392      0.000       0.213       0.247\n",
            "holiday         -0.1153      0.024     -4.894      0.000      -0.162      -0.069\n",
            "temp             0.5373      0.021     25.459      0.000       0.496       0.579\n",
            "windspeed       -0.0981      0.024     -4.101      0.000      -0.145      -0.051\n",
            "season_4         0.1400      0.011     12.661      0.000       0.118       0.162\n",
            "weathersit_2    -0.0922      0.009     -9.823      0.000      -0.111      -0.074\n",
            "weathersit_3    -0.2788      0.025    -10.941      0.000      -0.329      -0.229\n",
            "season_2         0.0952      0.011      8.702      0.000       0.074       0.117\n",
            "mnth_9           0.1075      0.016      6.737      0.000       0.076       0.139\n",
            "==============================================================================\n",
            "Omnibus:                       63.392   Durbin-Watson:                   2.013\n",
            "Prob(Omnibus):                  0.000   Jarque-Bera (JB):              102.892\n",
            "Skew:                          -0.796   Prob(JB):                     4.54e-23\n",
            "Kurtosis:                       4.526   Cond. No.                         10.2\n",
            "==============================================================================\n",
            "\n",
            "Warnings:\n",
            "[1] Standard Errors assume that the covariance matrix of the errors is correctly specified.\n"
          ]
        }
      ]
    },
    {
      "cell_type": "markdown",
      "source": [
        "# Final Model Interpretation"
      ],
      "metadata": {
        "id": "eglGN2TrAI3R"
      }
    },
    {
      "cell_type": "markdown",
      "source": [
        "**Hypothesis Testing:**\n",
        "\n",
        "  Hypothesis testing states that:\n",
        "\n",
        "*   H0:B1=B2=...=Bn=0\n",
        "*   H1: at least one Bi!=0\n",
        "\n",
        "**lr_finalmodel coefficient values**\n",
        "  \n",
        "\n",
        "*   const            0.1233    \n",
        "*   yr               0.2297 \n",
        "*   holiday         -0.1153   \n",
        "*   temp             0.5373 \n",
        "*   windspeed       -0.0981 \n",
        "*   season_4         0.1400  \n",
        "*   weathersit_2    -0.0922 \n",
        "*   weathersit_3    -0.2788 \n",
        "*   season_2         0.0952  \n",
        "*   mnth_9           0.1075   \n",
        "\n",
        "\n",
        "\n",
        "\n",
        "\n",
        "\n"
      ],
      "metadata": {
        "id": "UCMncq4pAYY0"
      }
    },
    {
      "cell_type": "markdown",
      "source": [
        "**Insights:**\n",
        "\n",
        "*   From the lm_finalmodel summary, it is evident that all our coefficients are not equal to zerowhich means We REJECT the NULL HYPOTHESIS\n",
        "\n",
        "\n"
      ],
      "metadata": {
        "id": "Dm1pe6bLCYSe"
      }
    },
    {
      "cell_type": "markdown",
      "source": [
        "**F Statistics**\n",
        "\n",
        "F-Statistics is used for testing the overall significance of the Model: Higher the F-Statistics, more significant the Model is\n",
        "*   F-statistic: 242.2\n",
        "*   Prob (F-statistic): 1.30e-175\n",
        "The F-Statistics value of 242.2 (which is greater than 1) and the p-value of '~0.0000' states that the overall model is significant\n",
        "\n"
      ],
      "metadata": {
        "id": "n5SPs0qbCikG"
      }
    },
    {
      "cell_type": "markdown",
      "source": [
        "**The equation of best fitted surface based on model :**\n",
        "\n",
        "cnt = 0.1233 + (yr × 0.2297) -(holiday ×0.1153)+ (temp × 0.5373) − (windspeed × 0.0981) + (season2 × 0.0952) + (season4 ×0.1400) + (mnth9 × 0.1075) − (weathersit2 × 0.0922) − (weathersit3 × 0.2788)"
      ],
      "metadata": {
        "id": "B7lvemw_DdPO"
      }
    },
    {
      "cell_type": "markdown",
      "source": [
        "**Interpretation of Coefficients:**\n",
        "\n",
        "*   **temp**: A coefficient value of ‘0.5373’ indicated that a unit increase in temp variable, increases the bike hire numbers by 0.5373 units\n",
        "*   **weathersit_3**: A coefficient value of ‘-0.2788’ indicated that, w.r.t Weathersit1, a unit increase in Weathersit3 variable, decreases the bike hire numbers by 0.2788 units.\n",
        "\n",
        "\n",
        "*   **yr**: A coefficient value of ‘0.2297’ indicated that a unit increase in yr variable, increases the bike hire numbers by 0.2297 units.\n",
        "* **season_4**: A coefficient value of ‘0.1400’ indicated that w.r.t season_1, a unit increase in season_4 variable increases the bike hire numbers by 0.1400 units.\n",
        "\n",
        "\n",
        "*   **windspeed**: A coefficient value of ‘-0.0981’ indicated that, a unit increase in windspeed variable decreases the bike hire numbers by0.0981 units.\n",
        "*   **holidayday**: A coefficient value of ‘-0.1153’ indicated that, a unit increase in holiday variable decreases the bike hire numbers by 0.1153 units.\n",
        "\n",
        "\n",
        "*  **season_2**: A coefficient value of ‘0.0952’ indicated that w.r.t season_1, a unit increase in season_2 variable increases the bike hire numbers by 0.0952 units.\n",
        "\n",
        "* **mnth_9**: A coefficient value of ‘0.1075  ’ indicated that w.r.t mnth_1, a unit increase in mnth_9 variable increases the bike hire numbers by 0.1075   units.\n",
        "\n",
        "* **const**: The Constant value of ‘0.1233 ’ indicated that, in the absence of all other predictor variables (i.e. when x1,x2...xn =0), The bike rental can still increase by 0.1233  units.\n",
        "\n",
        "*  **weathersit_2**: A coefficient value of ‘-0.2788’ indicated that, w.r.t Weathersit1, a unit increase in Weathersit2 variable, decreases the bike hire numbers by 0.074807 units.\n",
        "\n",
        "\n",
        "\n",
        "\n",
        "\n",
        "\n",
        "\n",
        "\n",
        "\n"
      ],
      "metadata": {
        "id": "lu7-JzC1FEtp"
      }
    },
    {
      "cell_type": "markdown",
      "source": [
        "# Assumptions"
      ],
      "metadata": {
        "id": "MFAAqOGOJ3W2"
      }
    },
    {
      "cell_type": "markdown",
      "source": [
        "**Error terms are normally distributed with mean zero (not X, Y)**\n",
        "\n",
        "*   Residual Analysis Of Training Data\n",
        "\n"
      ],
      "metadata": {
        "id": "1GsyX3zmJ7LQ"
      }
    },
    {
      "cell_type": "code",
      "source": [
        "X_train_new.columns"
      ],
      "metadata": {
        "colab": {
          "base_uri": "https://localhost:8080/"
        },
        "id": "fKv0tkluLZaF",
        "outputId": "99ad14ec-4de4-4082-f524-ad239f8b47fc"
      },
      "execution_count": 67,
      "outputs": [
        {
          "output_type": "execute_result",
          "data": {
            "text/plain": [
              "Index(['yr', 'holiday', 'temp', 'windspeed', 'season_4', 'weathersit_2',\n",
              "       'weathersit_3', 'season_2', 'mnth_9'],\n",
              "      dtype='object')"
            ]
          },
          "metadata": {},
          "execution_count": 67
        }
      ]
    },
    {
      "cell_type": "code",
      "source": [
        "X_train_new.shape"
      ],
      "metadata": {
        "colab": {
          "base_uri": "https://localhost:8080/"
        },
        "id": "o1XcjocrLsW-",
        "outputId": "76f06294-feae-49fa-d00f-62afb481bbfd"
      },
      "execution_count": 68,
      "outputs": [
        {
          "output_type": "execute_result",
          "data": {
            "text/plain": [
              "(508, 9)"
            ]
          },
          "metadata": {},
          "execution_count": 68
        }
      ]
    },
    {
      "cell_type": "code",
      "source": [
        "X_train_sm = sm.add_constant(X_train_new)\n",
        "y_train_pred=lr_finalmodel.predict(X_train_sm)"
      ],
      "metadata": {
        "id": "AM7wvVzgKHJa"
      },
      "execution_count": 69,
      "outputs": []
    },
    {
      "cell_type": "code",
      "source": [
        "res = y_train-y_train_pred\n",
        "# Plot the histogram of the error terms\n",
        "fig = plt.figure()\n",
        "sns.distplot((res), bins = 20)\n",
        "fig.suptitle('Error Terms', fontsize = 20)                  # Plot heading \n",
        "plt.xlabel('Errors', fontsize = 18)                         # X-label"
      ],
      "metadata": {
        "colab": {
          "base_uri": "https://localhost:8080/",
          "height": 333
        },
        "id": "nIo3ELQlOjB5",
        "outputId": "23e17216-0d5b-47f0-eaa3-75e5f80b7ff7"
      },
      "execution_count": 70,
      "outputs": [
        {
          "output_type": "execute_result",
          "data": {
            "text/plain": [
              "Text(0.5, 0, 'Errors')"
            ]
          },
          "metadata": {},
          "execution_count": 70
        },
        {
          "output_type": "display_data",
          "data": {
            "image/png": "[encoded data removed]",
            "text/plain": [
              "<Figure size 432x288 with 1 Axes>"
            ]
          },
          "metadata": {
            "needs_background": "light"
          }
        }
      ]
    },
    {
      "cell_type": "code",
      "source": [
        "import statsmodels.api as sm\n",
        "from scipy import stats\n",
        "sm.graphics.qqplot(lr_finalmodel.resid, dist=stats.norm, line='45', fit=True)"
      ],
      "metadata": {
        "colab": {
          "base_uri": "https://localhost:8080/",
          "height": 541
        },
        "id": "e6UXGehkRnJ7",
        "outputId": "44338399-333f-4ff2-ce58-c5fa71b1c57f"
      },
      "execution_count": 82,
      "outputs": [
        {
          "output_type": "execute_result",
          "data": {
            "image/png": "[encoded data removed]",
            "text/plain": [
              "<Figure size 432x288 with 1 Axes>"
            ]
          },
          "metadata": {},
          "execution_count": 82
        },
        {
          "output_type": "display_data",
          "data": {
            "image/png": "[encoded data removed]",
            "text/plain": [
              "<Figure size 432x288 with 1 Axes>"
            ]
          },
          "metadata": {
            "needs_background": "light"
          }
        }
      ]
    },
    {
      "cell_type": "markdown",
      "source": [
        "**Insights**\n",
        "\n",
        "\n",
        "*   From the above histogram, we could see that the Residuals are normally distributed. Hence our assumption for Linear Regression is valid.\n",
        "\n",
        "\n"
      ],
      "metadata": {
        "id": "9zt-V9yWOtX1"
      }
    },
    {
      "cell_type": "markdown",
      "source": [
        "**There is No Multicollinearity between the predictor variables**"
      ],
      "metadata": {
        "id": "J14x1Ru-PZem"
      }
    },
    {
      "cell_type": "code",
      "source": [
        "get_vif(X_train_new.columns)"
      ],
      "metadata": {
        "colab": {
          "base_uri": "https://localhost:8080/",
          "height": 332
        },
        "id": "F4yxVMTnPdmo",
        "outputId": "09424ebd-2665-4503-d40d-22c8f37b0689"
      },
      "execution_count": 71,
      "outputs": [
        {
          "output_type": "execute_result",
          "data": {
            "text/html": [
              "<div>\n",
              "<style scoped>\n",
              "    .dataframe tbody tr th:only-of-type {\n",
              "        vertical-align: middle;\n",
              "    }\n",
              "\n",
              "    .dataframe tbody tr th {\n",
              "        vertical-align: top;\n",
              "    }\n",
              "\n",
              "    .dataframe thead th {\n",
              "        text-align: right;\n",
              "    }\n",
              "</style>\n",
              "<table border=\"1\" class=\"dataframe\">\n",
              "  <thead>\n",
              "    <tr style=\"text-align: right;\">\n",
              "      <th></th>\n",
              "      <th>Features</th>\n",
              "      <th>VIF</th>\n",
              "    </tr>\n",
              "  </thead>\n",
              "  <tbody>\n",
              "    <tr>\n",
              "      <th>2</th>\n",
              "      <td>temp</td>\n",
              "      <td>4.01</td>\n",
              "    </tr>\n",
              "    <tr>\n",
              "      <th>3</th>\n",
              "      <td>windspeed</td>\n",
              "      <td>3.64</td>\n",
              "    </tr>\n",
              "    <tr>\n",
              "      <th>0</th>\n",
              "      <td>yr</td>\n",
              "      <td>1.96</td>\n",
              "    </tr>\n",
              "    <tr>\n",
              "      <th>7</th>\n",
              "      <td>season_2</td>\n",
              "      <td>1.68</td>\n",
              "    </tr>\n",
              "    <tr>\n",
              "      <th>5</th>\n",
              "      <td>weathersit_2</td>\n",
              "      <td>1.50</td>\n",
              "    </tr>\n",
              "    <tr>\n",
              "      <th>4</th>\n",
              "      <td>season_4</td>\n",
              "      <td>1.40</td>\n",
              "    </tr>\n",
              "    <tr>\n",
              "      <th>8</th>\n",
              "      <td>mnth_9</td>\n",
              "      <td>1.23</td>\n",
              "    </tr>\n",
              "    <tr>\n",
              "      <th>6</th>\n",
              "      <td>weathersit_3</td>\n",
              "      <td>1.09</td>\n",
              "    </tr>\n",
              "    <tr>\n",
              "      <th>1</th>\n",
              "      <td>holiday</td>\n",
              "      <td>1.04</td>\n",
              "    </tr>\n",
              "  </tbody>\n",
              "</table>\n",
              "</div>"
            ],
            "text/plain": [
              "       Features   VIF\n",
              "2          temp  4.01\n",
              "3     windspeed  3.64\n",
              "0            yr  1.96\n",
              "7      season_2  1.68\n",
              "5  weathersit_2  1.50\n",
              "4      season_4  1.40\n",
              "8        mnth_9  1.23\n",
              "6  weathersit_3  1.09\n",
              "1       holiday  1.04"
            ]
          },
          "metadata": {},
          "execution_count": 71
        }
      ]
    },
    {
      "cell_type": "markdown",
      "source": [
        "# MAKING PREDICTION USING FINAL MODEL"
      ],
      "metadata": {
        "id": "RxywQlKLP6dk"
      }
    },
    {
      "cell_type": "markdown",
      "source": [
        ""
      ],
      "metadata": {
        "id": "nIQppzOPErDy"
      }
    },
    {
      "cell_type": "code",
      "source": [
        "X_test=X_test[X_train_new.columns]\n",
        "X_test.head()"
      ],
      "metadata": {
        "colab": {
          "base_uri": "https://localhost:8080/",
          "height": 206
        },
        "id": "HR8i-3uDAPcZ",
        "outputId": "3459ab3b-940f-4d67-c6cd-0f1dab1b7635"
      },
      "execution_count": 72,
      "outputs": [
        {
          "output_type": "execute_result",
          "data": {
            "text/html": [
              "<div>\n",
              "<style scoped>\n",
              "    .dataframe tbody tr th:only-of-type {\n",
              "        vertical-align: middle;\n",
              "    }\n",
              "\n",
              "    .dataframe tbody tr th {\n",
              "        vertical-align: top;\n",
              "    }\n",
              "\n",
              "    .dataframe thead th {\n",
              "        text-align: right;\n",
              "    }\n",
              "</style>\n",
              "<table border=\"1\" class=\"dataframe\">\n",
              "  <thead>\n",
              "    <tr style=\"text-align: right;\">\n",
              "      <th></th>\n",
              "      <th>yr</th>\n",
              "      <th>holiday</th>\n",
              "      <th>temp</th>\n",
              "      <th>windspeed</th>\n",
              "      <th>season_4</th>\n",
              "      <th>weathersit_2</th>\n",
              "      <th>weathersit_3</th>\n",
              "      <th>season_2</th>\n",
              "      <th>mnth_9</th>\n",
              "    </tr>\n",
              "  </thead>\n",
              "  <tbody>\n",
              "    <tr>\n",
              "      <th>516</th>\n",
              "      <td>1</td>\n",
              "      <td>0</td>\n",
              "      <td>0.741445</td>\n",
              "      <td>0.538085</td>\n",
              "      <td>0</td>\n",
              "      <td>1</td>\n",
              "      <td>0</td>\n",
              "      <td>1</td>\n",
              "      <td>0</td>\n",
              "    </tr>\n",
              "    <tr>\n",
              "      <th>696</th>\n",
              "      <td>1</td>\n",
              "      <td>0</td>\n",
              "      <td>0.295982</td>\n",
              "      <td>0.471211</td>\n",
              "      <td>1</td>\n",
              "      <td>0</td>\n",
              "      <td>0</td>\n",
              "      <td>0</td>\n",
              "      <td>0</td>\n",
              "    </tr>\n",
              "    <tr>\n",
              "      <th>379</th>\n",
              "      <td>1</td>\n",
              "      <td>0</td>\n",
              "      <td>0.133996</td>\n",
              "      <td>0.572333</td>\n",
              "      <td>0</td>\n",
              "      <td>0</td>\n",
              "      <td>0</td>\n",
              "      <td>0</td>\n",
              "      <td>0</td>\n",
              "    </tr>\n",
              "    <tr>\n",
              "      <th>33</th>\n",
              "      <td>0</td>\n",
              "      <td>0</td>\n",
              "      <td>0.159278</td>\n",
              "      <td>0.638587</td>\n",
              "      <td>0</td>\n",
              "      <td>0</td>\n",
              "      <td>0</td>\n",
              "      <td>0</td>\n",
              "      <td>0</td>\n",
              "    </tr>\n",
              "    <tr>\n",
              "      <th>64</th>\n",
              "      <td>0</td>\n",
              "      <td>0</td>\n",
              "      <td>0.395486</td>\n",
              "      <td>0.802472</td>\n",
              "      <td>0</td>\n",
              "      <td>1</td>\n",
              "      <td>0</td>\n",
              "      <td>0</td>\n",
              "      <td>0</td>\n",
              "    </tr>\n",
              "  </tbody>\n",
              "</table>\n",
              "</div>"
            ],
            "text/plain": [
              "     yr  holiday      temp  ...  weathersit_3  season_2  mnth_9\n",
              "516   1        0  0.741445  ...             0         1       0\n",
              "696   1        0  0.295982  ...             0         0       0\n",
              "379   1        0  0.133996  ...             0         0       0\n",
              "33    0        0  0.159278  ...             0         0       0\n",
              "64    0        0  0.395486  ...             0         0       0\n",
              "\n",
              "[5 rows x 9 columns]"
            ]
          },
          "metadata": {},
          "execution_count": 72
        }
      ]
    },
    {
      "cell_type": "markdown",
      "source": [
        ""
      ],
      "metadata": {
        "id": "LfeI0Mjo27RZ"
      }
    },
    {
      "cell_type": "code",
      "source": [
        "# Adding constant variable to test dataframe\n",
        "X_test_lm6 = sm.add_constant(X_test)\n",
        "X_test_lm6.info()"
      ],
      "metadata": {
        "colab": {
          "base_uri": "https://localhost:8080/"
        },
        "id": "qfY-_IQf32nc",
        "outputId": "0ff6347f-f9c7-41d9-8ccf-8bcc05473f4d"
      },
      "execution_count": 73,
      "outputs": [
        {
          "output_type": "stream",
          "name": "stdout",
          "text": [
            "<class 'pandas.core.frame.DataFrame'>\n",
            "Int64Index: 219 entries, 516 to 584\n",
            "Data columns (total 10 columns):\n",
            " #   Column        Non-Null Count  Dtype  \n",
            "---  ------        --------------  -----  \n",
            " 0   const         219 non-null    float64\n",
            " 1   yr            219 non-null    int64  \n",
            " 2   holiday       219 non-null    int64  \n",
            " 3   temp          219 non-null    float64\n",
            " 4   windspeed     219 non-null    float64\n",
            " 5   season_4      219 non-null    uint8  \n",
            " 6   weathersit_2  219 non-null    uint8  \n",
            " 7   weathersit_3  219 non-null    uint8  \n",
            " 8   season_2      219 non-null    uint8  \n",
            " 9   mnth_9        219 non-null    uint8  \n",
            "dtypes: float64(3), int64(2), uint8(5)\n",
            "memory usage: 11.3 KB\n"
          ]
        }
      ]
    },
    {
      "cell_type": "code",
      "source": [
        "y_pred = lr_finalmodel.predict(X_test_lm6)"
      ],
      "metadata": {
        "id": "EWYzg68o4OaE"
      },
      "execution_count": 74,
      "outputs": []
    },
    {
      "cell_type": "markdown",
      "source": [
        "# MODEL EVALUATION"
      ],
      "metadata": {
        "id": "x7bZ3etfRLZo"
      }
    },
    {
      "cell_type": "code",
      "source": [
        "# Plotting y_test and y_pred to understand the spread\n",
        "\n",
        "fig = plt.figure()\n",
        "plt.scatter(y_test, y_pred, alpha=.5)\n",
        "fig.suptitle('y_test vs y_pred', fontsize = 20)              # Plot heading \n",
        "plt.xlabel('y_test', fontsize = 18)                          # X-label\n",
        "plt.ylabel('y_pred', fontsize = 16) \n",
        "plt.show()"
      ],
      "metadata": {
        "colab": {
          "base_uri": "https://localhost:8080/",
          "height": 316
        },
        "id": "IdCkXcvzRPoQ",
        "outputId": "fd508dfc-ac56-4444-c6f0-cd5939bbef5e"
      },
      "execution_count": 75,
      "outputs": [
        {
          "output_type": "display_data",
          "data": {
            "image/png": "[encoded data removed]",
            "text/plain": [
              "<Figure size 432x288 with 1 Axes>"
            ]
          },
          "metadata": {
            "needs_background": "light"
          }
        }
      ]
    },
    {
      "cell_type": "markdown",
      "source": [
        "**R^2 Value for TEST**"
      ],
      "metadata": {
        "id": "-42SF3cERavt"
      }
    },
    {
      "cell_type": "code",
      "source": [
        "from sklearn.metrics import r2_score\n",
        "r2_score(y_test, y_pred)"
      ],
      "metadata": {
        "colab": {
          "base_uri": "https://localhost:8080/"
        },
        "id": "umBSeD7w5AHe",
        "outputId": "ed93a940-179a-40ad-caec-7eb9395294bc"
      },
      "execution_count": 76,
      "outputs": [
        {
          "output_type": "execute_result",
          "data": {
            "text/plain": [
              "0.8247984044581571"
            ]
          },
          "metadata": {},
          "execution_count": 76
        }
      ]
    },
    {
      "cell_type": "markdown",
      "source": [
        "**Adjusted R^2 Value for TEST**"
      ],
      "metadata": {
        "id": "UTg6N6Y2Rk3e"
      }
    },
    {
      "cell_type": "code",
      "source": [
        "# n is number of rows in X\n",
        "r2=r2_score(y_test, y_pred)\n",
        "n = X_test.shape[0]\n",
        "\n",
        "\n",
        "# Number of features (predictors, p) is the shape along axis 1\n",
        "p = X_test.shape[1]\n",
        "\n",
        "# We find the Adjusted R-squared using the formula\n",
        "\n",
        "adjusted_r2 = 1-(1-r2)*(n-1)/(n-p-1)\n",
        "adjusted_r2"
      ],
      "metadata": {
        "colab": {
          "base_uri": "https://localhost:8080/"
        },
        "id": "PNDJifv2Ro3O",
        "outputId": "f6cf6081-6606-4249-c423-2f41ca3c5f4a"
      },
      "execution_count": 77,
      "outputs": [
        {
          "output_type": "execute_result",
          "data": {
            "text/plain": [
              "0.8172538381429582"
            ]
          },
          "metadata": {},
          "execution_count": 77
        }
      ]
    },
    {
      "cell_type": "markdown",
      "source": [
        "# Final Result Comparison"
      ],
      "metadata": {
        "id": "_NsynKEhJxdz"
      }
    },
    {
      "cell_type": "markdown",
      "source": [
        "\n",
        "\n",
        "*   Train R^2 :0.814\n",
        "*   Train Adjusted R^2 :0.811\n",
        "\n",
        "*   Test R^2 :0.824\n",
        "*   Test Adjusted R^2 :0.817\n",
        "\n",
        "*   This seems to be a really good model that can very well 'Generalize' various datasets.\n",
        "\n",
        "\n",
        "\n",
        "\n",
        "\n"
      ],
      "metadata": {
        "id": "Dm9vMsF3J2ds"
      }
    },
    {
      "cell_type": "markdown",
      "source": [
        "# FINAL REPORT"
      ],
      "metadata": {
        "id": "ZOxTxNKyKJOU"
      }
    },
    {
      "cell_type": "markdown",
      "source": [
        "As per our final Model, the top 3 predictor variables that influences the bike booking are:"
      ],
      "metadata": {
        "id": "zynha6XhKNi2"
      }
    },
    {
      "cell_type": "markdown",
      "source": [
        "\n",
        "\n",
        "*   **Temparature(temp)**:A coefficient value of ‘0.5373’ indicated that a unit increase in temp variable increases the bike hire numbers by '0.5373' units\n",
        "*  **Weather situation 3(weathersit3)**:A coefficient value of ‘-0.2788’ indicated that, w.r.t Weathersit1, a unit increase in Weathersit3 variable decreases the bike hire numbers by 0.2788 units.\n",
        "*   **year(yr)**:A coefficient value of ‘0.2297’ indicated that a unit increase in yr variable increases the bike hire numbers by 0.2308 units\n",
        " \n",
        "\n",
        "\n",
        "\n"
      ],
      "metadata": {
        "id": "SGzIGc3aKahl"
      }
    },
    {
      "cell_type": "markdown",
      "source": [
        ""
      ],
      "metadata": {
        "id": "H4XnveYaNHiQ"
      }
    }
  ]
}